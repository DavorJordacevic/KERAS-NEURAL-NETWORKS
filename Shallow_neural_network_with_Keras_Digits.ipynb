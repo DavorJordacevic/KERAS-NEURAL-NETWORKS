{
  "nbformat": 4,
  "nbformat_minor": 0,
  "metadata": {
    "colab": {
      "name": "Shallow_neural_network_with_Keras_Digits.ipynb",
      "version": "0.3.2",
      "provenance": [],
      "collapsed_sections": [],
      "include_colab_link": true
    },
    "kernelspec": {
      "name": "python3",
      "display_name": "Python 3"
    }
  },
  "cells": [
    {
      "cell_type": "markdown",
      "metadata": {
        "id": "view-in-github",
        "colab_type": "text"
      },
      "source": [
        "<a href=\"https://colab.research.google.com/github/DavorJordacevic/NEURAL-NETWORKS-/blob/master/Shallow_neural_network_with_Keras_Digits.ipynb\" target=\"_parent\"><img src=\"https://colab.research.google.com/assets/colab-badge.svg\" alt=\"Open In Colab\"/></a>"
      ]
    },
    {
      "metadata": {
        "id": "Qvgi-JMWWE7G",
        "colab_type": "text"
      },
      "cell_type": "markdown",
      "source": [
        "# Shallow neural network with Keras"
      ]
    },
    {
      "metadata": {
        "id": "WhkOyrVJEYam",
        "colab_type": "text"
      },
      "cell_type": "markdown",
      "source": [
        "Keras is a high-level neural networks API, written in Python and capable of running on top of TensorFlow, CNTK, or Theano. "
      ]
    },
    {
      "metadata": {
        "id": "hW3bMJKTWA4J",
        "colab_type": "code",
        "outputId": "bfed1e7f-2bb2-4ee3-ab2a-7df4d45fa151",
        "colab": {
          "base_uri": "https://localhost:8080/",
          "height": 34
        }
      },
      "cell_type": "code",
      "source": [
        "import numpy as np\n",
        "import matplotlib.pyplot as plt\n",
        "import keras\n",
        "import warnings\n",
        "from mpl_toolkits import mplot3d\n",
        "from matplotlib import cm\n",
        "from keras.models import Sequential\n",
        "from keras.layers import Dense\n",
        "from keras.optimizers import adam\n",
        "from keras.utils import np_utils\n",
        "from sklearn import datasets\n",
        "from sklearn.model_selection import train_test_split\n",
        "from sklearn.model_selection import StratifiedKFold\n",
        "from sklearn.model_selection import cross_val_score\n",
        "warnings.filterwarnings(\"ignore\")"
      ],
      "execution_count": 1,
      "outputs": [
        {
          "output_type": "stream",
          "text": [
            "Using TensorFlow backend.\n"
          ],
          "name": "stderr"
        }
      ]
    },
    {
      "metadata": {
        "id": "hnyYTfqKEknD",
        "colab_type": "text"
      },
      "cell_type": "markdown",
      "source": [
        "# 1. Load the digit dataset"
      ]
    },
    {
      "metadata": {
        "id": "c7hQexApWZGB",
        "colab_type": "code",
        "outputId": "a1b3735d-2213-4389-d1fa-549a40dfdc5b",
        "colab": {
          "base_uri": "https://localhost:8080/",
          "height": 34
        }
      },
      "cell_type": "code",
      "source": [
        "digits = datasets.load_digits()\n",
        "X_digits = digits.data\n",
        "y_digits = digits.target\n",
        "\n",
        "digits.keys()"
      ],
      "execution_count": 2,
      "outputs": [
        {
          "output_type": "execute_result",
          "data": {
            "text/plain": [
              "dict_keys(['data', 'target', 'target_names', 'images', 'DESCR'])"
            ]
          },
          "metadata": {
            "tags": []
          },
          "execution_count": 2
        }
      ]
    },
    {
      "metadata": {
        "id": "1SuTLSKrFcK7",
        "colab_type": "text"
      },
      "cell_type": "markdown",
      "source": [
        "### 1.1 Spliting data into train and test sets"
      ]
    },
    {
      "metadata": {
        "id": "xnuuumc3WjsC",
        "colab_type": "code",
        "outputId": "7d698e0b-e969-4a39-cfaa-db0a43621fa2",
        "colab": {
          "base_uri": "https://localhost:8080/",
          "height": 85
        }
      },
      "cell_type": "code",
      "source": [
        "print(X_digits.shape)\n",
        "print(y_digits.shape)\n",
        "print(type(X_digits))\n",
        "print(type(y_digits))\n",
        "\n",
        "# Spliting data into train and test\n",
        "X_train, X_test, y_train, y_test = train_test_split(X_digits, y_digits, test_size=0.33, random_state=42)"
      ],
      "execution_count": 3,
      "outputs": [
        {
          "output_type": "stream",
          "text": [
            "(1797, 64)\n",
            "(1797,)\n",
            "<class 'numpy.ndarray'>\n",
            "<class 'numpy.ndarray'>\n"
          ],
          "name": "stdout"
        }
      ]
    },
    {
      "metadata": {
        "id": "GWH4dB55FjWh",
        "colab_type": "text"
      },
      "cell_type": "markdown",
      "source": [
        "### 1.2 Checking the shape of the input data"
      ]
    },
    {
      "metadata": {
        "id": "udxYNeo7X3FC",
        "colab_type": "code",
        "outputId": "d82e5bea-80e0-4fe1-8f98-5b082bf6ba2e",
        "colab": {
          "base_uri": "https://localhost:8080/",
          "height": 85
        }
      },
      "cell_type": "code",
      "source": [
        "print('x_train:\\t{}' .format(X_train.shape))\n",
        "print('y_train:\\t{}' .format(y_train.shape))\n",
        "print('x_test:\\t\\t{}'.format(X_test.shape))\n",
        "print('y_test:\\t\\t{}'.format(y_test.shape))"
      ],
      "execution_count": 4,
      "outputs": [
        {
          "output_type": "stream",
          "text": [
            "x_train:\t(1203, 64)\n",
            "y_train:\t(1203,)\n",
            "x_test:\t\t(594, 64)\n",
            "y_test:\t\t(594,)\n"
          ],
          "name": "stdout"
        }
      ]
    },
    {
      "metadata": {
        "id": "LsyiXQEPFyTR",
        "colab_type": "text"
      },
      "cell_type": "markdown",
      "source": [
        "### 1.3 Plot first 64 digits"
      ]
    },
    {
      "metadata": {
        "id": "yUc3oyTaF_lt",
        "colab_type": "text"
      },
      "cell_type": "markdown",
      "source": [
        "Now we can plot some digits to see how they look.\n",
        "\n",
        "*digits.target* contain real value for each image in *digits.images*"
      ]
    },
    {
      "metadata": {
        "id": "nEVXBPVxWo5P",
        "colab_type": "code",
        "outputId": "d711cfb2-4070-41e7-f9f9-644556e0b1a9",
        "colab": {
          "base_uri": "https://localhost:8080/",
          "height": 463
        }
      },
      "cell_type": "code",
      "source": [
        "# set up the figure\n",
        "fig = plt.figure(figsize=(6, 6))\n",
        "fig.subplots_adjust(left=0, right=1, bottom=0, top=1, hspace=0.05, wspace=0.05)\n",
        "\n",
        "# plot the digits: each image is 8x8 pixels\n",
        "for i in range(64):\n",
        "    ax = fig.add_subplot(8, 8, i + 1, xticks=[], yticks=[])\n",
        "    ax.imshow(digits.images[i], cmap=plt.cm.binary, interpolation='nearest')\n",
        "    \n",
        "    # label the image with the target value\n",
        "    ax.text(0, 7, str(digits.target[i]))"
      ],
      "execution_count": 5,
      "outputs": [
        {
          "output_type": "display_data",
          "data": {
            "image/png": "[encoded data removed]",
            "text/plain": [
              "<Figure size 432x432 with 64 Axes>"
            ]
          },
          "metadata": {
            "tags": []
          }
        }
      ]
    },
    {
      "metadata": {
        "id": "8M7sv5aKHO8u",
        "colab_type": "text"
      },
      "cell_type": "markdown",
      "source": [
        "### 1.4 One Hot Encoding"
      ]
    },
    {
      "metadata": {
        "id": "eXSiCvV5HOct",
        "colab_type": "text"
      },
      "cell_type": "markdown",
      "source": [
        "Many machine learning algorithms cannot operate on label data directly. They require all input variables and output variables to be numeric.\n",
        "\n",
        "This means that categorical data must be converted to a numerical form."
      ]
    },
    {
      "metadata": {
        "id": "5fd0jduAcB33",
        "colab_type": "code",
        "colab": {}
      },
      "cell_type": "code",
      "source": [
        "# one hot encode outputs\n",
        "y_train = np_utils.to_categorical(y_train)\n",
        "y_test = np_utils.to_categorical(y_test)\n",
        "num_classes = y_test.shape[1]"
      ],
      "execution_count": 0,
      "outputs": []
    },
    {
      "metadata": {
        "id": "whMqOSODFtZK",
        "colab_type": "text"
      },
      "cell_type": "markdown",
      "source": [
        "# 2. Create the network"
      ]
    },
    {
      "metadata": {
        "id": "02jtZOiiH60k",
        "colab_type": "text"
      },
      "cell_type": "markdown",
      "source": [
        "### 2.1 Hyper-parameters"
      ]
    },
    {
      "metadata": {
        "id": "4V-FW8jVX63r",
        "colab_type": "code",
        "colab": {}
      },
      "cell_type": "code",
      "source": [
        "# Hyper-parameters\n",
        "training_epochs = 500 # Total number of training epochs\n",
        "learning_rate = 0.01 # The learning rate"
      ],
      "execution_count": 0,
      "outputs": []
    },
    {
      "metadata": {
        "id": "BB1jrI_jH-LD",
        "colab_type": "text"
      },
      "cell_type": "markdown",
      "source": [
        "### 2.2 Creating a model"
      ]
    },
    {
      "metadata": {
        "id": "_e6qDza_ICoj",
        "colab_type": "text"
      },
      "cell_type": "markdown",
      "source": [
        "Our model will have 2 layers, with 64(*height x width*) neurons in the input layer and 10 neurons in the output layer.\n",
        "We will use normal initializer that generates tensors with a normal distribution.\n",
        "\n",
        "The optimizer we'll use is **Adam** .It is an optimization algorithm that can be used instead of the classical stochastic gradient descent procedure to update network weights iterative based on training data. Adam is a popular algorithm in the field of deep learning because it achieves good results fast. Default parameters follow those provided in the original paper. \n",
        "\n",
        "To make this work in keras we need to compile the model. An important choice to make is the loss function. We use the **categorical_crossentropy** loss because it measures the probability error in discrete classification tasks in which the classes are mutually exclusive (each entry is in exactly one class)."
      ]
    },
    {
      "metadata": {
        "id": "7gr1pPJgX61j",
        "colab_type": "code",
        "outputId": "2cf70c09-3919-4fa4-95c8-9c0bf74c0260",
        "colab": {
          "base_uri": "https://localhost:8080/",
          "height": 204
        }
      },
      "cell_type": "code",
      "source": [
        "# create model\n",
        "def create_model():\n",
        "  model = Sequential()\n",
        "  # Input layer\n",
        "  model.add(Dense(64, input_dim=64, kernel_initializer='normal', activation='tanh'))\n",
        "  # Output layer\n",
        "  model.add(Dense(10, activation='softmax'))\n",
        " \n",
        "  # Compile model\n",
        "  model.compile(loss='categorical_crossentropy', optimizer=adam(learning_rate), metrics=['accuracy'])\n",
        "  return model\n",
        "model = create_model()\n",
        "model.summary()"
      ],
      "execution_count": 8,
      "outputs": [
        {
          "output_type": "stream",
          "text": [
            "_________________________________________________________________\n",
            "Layer (type)                 Output Shape              Param #   \n",
            "=================================================================\n",
            "dense_1 (Dense)              (None, 64)                4160      \n",
            "_________________________________________________________________\n",
            "dense_2 (Dense)              (None, 10)                650       \n",
            "=================================================================\n",
            "Total params: 4,810\n",
            "Trainable params: 4,810\n",
            "Non-trainable params: 0\n",
            "_________________________________________________________________\n"
          ],
          "name": "stdout"
        }
      ]
    },
    {
      "metadata": {
        "id": "6EvcG3osJTn3",
        "colab_type": "text"
      },
      "cell_type": "markdown",
      "source": [
        "### 2.3 Train the mode"
      ]
    },
    {
      "metadata": {
        "id": "SzCPgWtaJVbn",
        "colab_type": "text"
      },
      "cell_type": "markdown",
      "source": [
        "Let's trains the model for a given number of epochs."
      ]
    },
    {
      "metadata": {
        "id": "xpaHdxMsX6x6",
        "colab_type": "code",
        "colab": {}
      },
      "cell_type": "code",
      "source": [
        "results = model.fit(\n",
        " X_train, y_train,\n",
        " epochs= training_epochs,\n",
        " batch_size = 516,\n",
        " validation_data = (X_test, y_test),\n",
        " verbose = 0\n",
        ")"
      ],
      "execution_count": 0,
      "outputs": []
    },
    {
      "metadata": {
        "id": "A2J9-tnLJYIW",
        "colab_type": "text"
      },
      "cell_type": "markdown",
      "source": [
        "### 2.4 Test the model"
      ]
    },
    {
      "metadata": {
        "id": "3ZKU8VLpJbWk",
        "colab_type": "text"
      },
      "cell_type": "markdown",
      "source": [
        "Model can generate output predictions for the input samples."
      ]
    },
    {
      "metadata": {
        "id": "AYK4prZ2YY5E",
        "colab_type": "code",
        "colab": {}
      },
      "cell_type": "code",
      "source": [
        "prediction_values = model.predict_classes(X_test)"
      ],
      "execution_count": 0,
      "outputs": []
    },
    {
      "metadata": {
        "id": "6InzOUqfJaxN",
        "colab_type": "text"
      },
      "cell_type": "markdown",
      "source": [
        "### 2.5 Mean error value"
      ]
    },
    {
      "metadata": {
        "id": "uZiHPMfIYpNw",
        "colab_type": "code",
        "outputId": "263640e8-1e8c-49e2-92e3-6ac0f7b8536a",
        "colab": {
          "base_uri": "https://localhost:8080/",
          "height": 34
        }
      },
      "cell_type": "code",
      "source": [
        "print(np.mean(results.history[\"val_acc\"]))"
      ],
      "execution_count": 11,
      "outputs": [
        {
          "output_type": "stream",
          "text": [
            "0.9703467918730744\n"
          ],
          "name": "stdout"
        }
      ]
    },
    {
      "metadata": {
        "id": "Nxsdsse8Jiih",
        "colab_type": "text"
      },
      "cell_type": "markdown",
      "source": [
        "### 2.6 Evaluate the model to see the accuracy"
      ]
    },
    {
      "metadata": {
        "id": "KFMbkie9JkJW",
        "colab_type": "text"
      },
      "cell_type": "markdown",
      "source": [
        "Now we can check the accuracy of our model"
      ]
    },
    {
      "metadata": {
        "id": "n2DTxPRAYpLg",
        "colab_type": "code",
        "outputId": "4d2ab0a1-414e-41d0-efcb-03f85556201c",
        "colab": {
          "base_uri": "https://localhost:8080/",
          "height": 68
        }
      },
      "cell_type": "code",
      "source": [
        "# evaluate the model\n",
        "scores = model.evaluate(X_train,y_train)\n",
        "print(\"\\n%s: %.2f%%\" % (model.metrics_names[1], scores[1]*100))"
      ],
      "execution_count": 12,
      "outputs": [
        {
          "output_type": "stream",
          "text": [
            "1203/1203 [==============================] - 0s 22us/step\n",
            "\n",
            "acc: 100.00%\n"
          ],
          "name": "stdout"
        }
      ]
    },
    {
      "metadata": {
        "id": "WvB7Wmz_JnS7",
        "colab_type": "text"
      },
      "cell_type": "markdown",
      "source": [
        "### 2.7 Summarize history for accuracy"
      ]
    },
    {
      "metadata": {
        "id": "Gj0ghedxYpJK",
        "colab_type": "code",
        "outputId": "2de8e4d0-58b5-43b9-f9ce-b589f95a224b",
        "colab": {
          "base_uri": "https://localhost:8080/",
          "height": 393
        }
      },
      "cell_type": "code",
      "source": [
        "# summarize history for accuracy\n",
        "plt.plot(results.history['acc'])\n",
        "plt.plot(results.history['val_acc'])\n",
        "plt.title('model accuracy')\n",
        "plt.ylabel('accuracy')\n",
        "plt.xlabel('epoch')\n",
        "plt.legend(['train', 'test'], loc='down right')"
      ],
      "execution_count": 13,
      "outputs": [
        {
          "output_type": "execute_result",
          "data": {
            "text/plain": [
              "<matplotlib.legend.Legend at 0x7f492e03bc88>"
            ]
          },
          "metadata": {
            "tags": []
          },
          "execution_count": 13
        },
        {
          "output_type": "display_data",
          "data": {
            "image/png": "[encoded data removed]",
            "text/plain": [
              "<Figure size 576x396 with 1 Axes>"
            ]
          },
          "metadata": {
            "tags": []
          }
        }
      ]
    },
    {
      "metadata": {
        "id": "-bf-Ig5WJq26",
        "colab_type": "text"
      },
      "cell_type": "markdown",
      "source": [
        "### 2.8 Summarize history for loss"
      ]
    },
    {
      "metadata": {
        "id": "pphKtdvYY0Nz",
        "colab_type": "code",
        "outputId": "7a696540-82e2-4678-f146-ee98b5790d52",
        "colab": {
          "base_uri": "https://localhost:8080/",
          "height": 461
        }
      },
      "cell_type": "code",
      "source": [
        "# summarize history for loss\n",
        "plt.plot(results.history['loss'])\n",
        "plt.plot(results.history['val_loss'])\n",
        "plt.title('model loss')\n",
        "plt.ylabel('loss')\n",
        "plt.xlabel('epoch')\n",
        "plt.legend(['train', 'test'], loc='upper right')\n",
        "\n",
        "max_loss = np.max(results.history['loss'])\n",
        "min_loss = np.min(results.history['loss'])\n",
        "print(\"Maximum Loss : {:.4f}\".format(max_loss))\n",
        "print(\"\")\n",
        "print(\"Minimum Loss : {:.4f}\".format(min_loss))\n",
        "print(\"\")\n",
        "print(\"Loss difference : {:.4f}\".format((max_loss - min_loss)))"
      ],
      "execution_count": 14,
      "outputs": [
        {
          "output_type": "stream",
          "text": [
            "Maximum Loss : 2.2396\n",
            "\n",
            "Minimum Loss : 0.0002\n",
            "\n",
            "Loss difference : 2.2395\n"
          ],
          "name": "stdout"
        },
        {
          "output_type": "display_data",
          "data": {
            "image/png": "[encoded data removed]",
            "text/plain": [
              "<Figure size 576x396 with 1 Axes>"
            ]
          },
          "metadata": {
            "tags": []
          }
        }
      ]
    },
    {
      "metadata": {
        "id": "nHfiLBxpHvPE",
        "colab_type": "text"
      },
      "cell_type": "markdown",
      "source": [
        "# 3. Visualization"
      ]
    },
    {
      "metadata": {
        "id": "UExzNG6WJzqG",
        "colab_type": "text"
      },
      "cell_type": "markdown",
      "source": [
        "### 3.3 Display the test set and predictions"
      ]
    },
    {
      "metadata": {
        "id": "G-IZtwjDWBWG",
        "colab_type": "code",
        "outputId": "2bd1fc32-9a79-4d79-d6c2-bdd1e29fea32",
        "colab": {
          "base_uri": "https://localhost:8080/",
          "height": 506
        }
      },
      "cell_type": "code",
      "source": [
        "# set up the figure\n",
        "fig = plt.figure(figsize=(15, 7))\n",
        "fig.subplots_adjust(left=0, right=1, bottom=0, top=1, hspace=0.05, wspace=0.05)\n",
        "\n",
        "# plot the digits: each image is 8x8 pixels\n",
        "for i in range(120):\n",
        "    ax = fig.add_subplot(6, 20, i + 1, xticks=[], yticks=[])\n",
        "    ax.imshow(X_test[i,:].reshape((8,8)),cmap=plt.cm.gray_r, interpolation='nearest')\n",
        "    \n",
        "    # label the image with the target value\n",
        "    ax.text(0, 7, str(prediction_values[i]))"
      ],
      "execution_count": 15,
      "outputs": [
        {
          "output_type": "display_data",
          "data": {
            "image/png": "[encoded data removed]",
            "text/plain": [
              "<Figure size 1080x504 with 120 Axes>"
            ]
          },
          "metadata": {
            "tags": []
          }
        }
      ]
    },
    {
      "metadata": {
        "id": "0T-63fnSJyT5",
        "colab_type": "text"
      },
      "cell_type": "markdown",
      "source": [
        "### 3.2 Display the weights and biases of our model"
      ]
    },
    {
      "metadata": {
        "id": "GrdnWl9Jc7n6",
        "colab_type": "code",
        "outputId": "b1595c06-761f-44c3-f0ad-1795a4720abe",
        "colab": {
          "base_uri": "https://localhost:8080/",
          "height": 2805
        }
      },
      "cell_type": "code",
      "source": [
        "# Input layer\n",
        "weights0 = model.layers[0].get_weights()[0]\n",
        "biases0 = model.layers[0].get_weights()[1]\n",
        "print(\"Input layer weights\",weights0.shape,\":\\n\",weights0)\n",
        "print(\"Input layer biases\",biases0.shape,\":\\n\",biases0)\n",
        "\n",
        "\n",
        "# Output layer\n",
        "weights1 = model.layers[1].get_weights()[0]\n",
        "biases1 = model.layers[1].get_weights()[1]\n",
        "print(\"\\nOutput layer weights\",weights1.shape,\":\\n\",weights1)\n",
        "print(\"Output layer biases\",biases1.shape,\":\\n\",biases1)"
      ],
      "execution_count": 16,
      "outputs": [
        {
          "output_type": "stream",
          "text": [
            "Input layer weights (64, 64) :\n",
            " [[-0.04785306  0.04994298 -0.04871136 ...  0.07437643  0.00139253\n",
            "  -0.0199706 ]\n",
            " [-0.1727117   0.13959748 -0.04009248 ... -0.1749121  -0.1767299\n",
            "   0.07911065]\n",
            " [-0.00282725  0.10965484 -0.06911694 ... -0.15806487 -0.15159072\n",
            "  -0.14340834]\n",
            " ...\n",
            " [-0.05637106 -0.19492008 -0.02451363 ...  0.07856684  0.13756232\n",
            "   0.22874661]\n",
            " [-0.14311554 -0.11887488 -0.06106627 ...  0.03307327 -0.13888563\n",
            "   0.08642556]\n",
            " [ 0.07249071 -0.10321246 -0.04471733 ... -0.0315116  -0.13808817\n",
            "   0.21705325]]\n",
            "Input layer biases (64,) :\n",
            " [-1.7049972e-02  1.7351963e-02 -5.9094418e-02 -8.0703534e-02\n",
            " -1.1678455e-02  1.7238008e-02 -3.6669824e-02 -1.6299983e-02\n",
            " -7.6990068e-02 -4.8423044e-02  7.2150722e-02 -6.7016752e-03\n",
            "  1.7337647e-03  7.1300464e-03 -1.1740045e-02  5.7434987e-02\n",
            "  4.3175273e-02 -4.4376422e-02 -5.8510569e-03 -3.3006795e-02\n",
            "  3.2081734e-02 -6.7937881e-02  2.1121800e-02  5.9442434e-02\n",
            " -3.3054464e-02 -3.0902436e-03 -1.9068985e-03  3.8114361e-02\n",
            " -7.7196926e-02 -1.0067554e-03 -2.1560322e-02  4.0005390e-02\n",
            "  2.5962049e-02  6.7099415e-02  1.0710033e-02 -5.2964177e-02\n",
            " -4.4404306e-02 -1.2952842e-02 -2.8501047e-02  7.6491103e-02\n",
            "  4.9667493e-02 -1.2538821e-02 -4.8438287e-05 -1.5801771e-02\n",
            " -1.6271328e-03  3.5622481e-02 -9.2528984e-03  2.6101759e-02\n",
            "  3.4016121e-02 -6.2419914e-02  5.1980361e-02 -3.4555927e-02\n",
            " -2.4927884e-02  4.1144297e-02 -1.3154697e-02  1.2552560e-03\n",
            "  5.4072533e-02 -4.2285200e-02  3.5269700e-02  2.9275648e-03\n",
            " -2.5551431e-02  1.0901730e-02 -1.8360300e-01 -5.8708075e-02]\n",
            "\n",
            "Output layer weights (64, 10) :\n",
            " [[-0.02783636  0.5426582  -0.5214969  -0.5228867   0.07877876  0.4206358\n",
            "  -0.49782196  0.4509369   0.08777331  0.1189734 ]\n",
            " [-0.26730216 -0.50642926 -0.35129598 -0.16087836  0.6704237   0.45476422\n",
            "  -0.5156612   0.45849118 -0.05925775 -0.4368471 ]\n",
            " [-0.02404098 -0.04814983  0.07464866 -0.13265797  0.06600293 -0.1944157\n",
            "  -0.00540353  0.25755394  0.05459913 -0.14074676]\n",
            " [-0.15311672  0.3740703  -0.22755904 -0.1719326  -0.21927436  0.18365473\n",
            "  -0.23234133  0.3370003   0.01357206  0.3164391 ]\n",
            " [-0.34337652  0.20810981 -0.15641008 -0.35267127  0.579873   -0.19018766\n",
            "  -0.20269029  0.5458778  -0.5399443   0.55454224]\n",
            " [ 0.39781046 -0.13412265 -0.32848263 -0.3023008   0.31254554 -0.17524394\n",
            "  -0.17491786  0.70163685 -0.3102688  -0.2969187 ]\n",
            " [-0.2026256  -0.26602238  0.49604496 -0.3203492   0.31312037  0.10380771\n",
            "   0.05790584 -0.38873786  0.00675412  0.12640122]\n",
            " [-0.4216405   0.6384369   0.15472466 -0.5973042   0.7669085   0.42092627\n",
            "  -0.52740824 -0.41712436 -0.14720115  0.19119127]\n",
            " [ 0.17142573  0.1930573  -0.17606735  0.24289444 -0.0479766  -0.03831064\n",
            "   0.06389784 -0.08994681 -0.16423512  0.1346648 ]\n",
            " [-0.02666073  0.20516953 -0.04430916 -0.43344554  0.5125724   0.5801449\n",
            "   0.48512378 -0.6722168   0.21941406 -0.5284358 ]\n",
            " [ 0.29605362 -0.6587749  -0.24362804  0.29059878 -0.33003223  0.00843641\n",
            "  -0.72426987  0.02685894  0.8059141   0.21439222]\n",
            " [ 0.02763816  0.530766   -0.49258247 -0.22105166  0.41879764  0.21321325\n",
            "  -0.31825158 -1.0116976   0.4150587   0.32060874]\n",
            " [-0.46127206 -0.18932208 -0.13381265 -0.34088084  0.5559475   0.4904573\n",
            "   0.4401485  -0.2727199  -0.18688872 -0.350347  ]\n",
            " [ 0.19842714  0.01804207  0.15069596 -0.37314543  0.1956232   0.70315737\n",
            "  -0.26345474 -0.48605448 -0.36863223  0.36405239]\n",
            " [-0.3611207   0.57859486  0.5709748   0.15114401  0.13873816 -0.28432286\n",
            "  -0.7089367   0.7387697  -0.19784755 -0.545529  ]\n",
            " [ 0.32221666 -0.47741556  0.789667   -0.6016216   0.14909534 -0.46565318\n",
            "   0.22417812 -0.4104359  -0.53931147  0.5538155 ]\n",
            " [-0.01979663 -0.07399983 -0.18641627 -0.05632222 -0.0198599  -0.07563457\n",
            "  -0.13144994  0.18948674 -0.05246172 -0.24186297]\n",
            " [ 0.02670626  0.14837879 -0.2040354   0.23149814 -0.20093234 -0.2941475\n",
            "  -0.24870196  0.20641524  0.1576561  -0.08593027]\n",
            " [-0.4218869  -0.33033627  0.5681367   0.5682869  -0.27518764  0.4507675\n",
            "  -0.18736444 -0.23163374 -0.59959984  0.35599595]\n",
            " [ 0.06755377  0.6253682  -0.55137634  0.10556285  0.02453548 -0.14166819\n",
            "  -0.24908957 -0.09231226  0.05392837  0.56729305]\n",
            " [ 0.16272748 -0.6514097   0.09968291  0.10165659 -0.07753572  0.15535398\n",
            "   0.0147583  -0.2024505  -0.01210322  0.46875817]\n",
            " [ 0.15937902 -0.15706214 -0.11426409 -0.03795411  0.04468207 -0.04793824\n",
            "   0.05917421 -0.18705429 -0.23963411 -0.04957513]\n",
            " [ 0.14909354 -0.07289237  0.55616355  0.647058   -0.03333012  0.560984\n",
            "  -0.2286764  -0.4621053  -0.59465647 -0.35833165]\n",
            " [-0.14933628 -0.0977164   0.01666494  0.08119927  0.16625506  0.06677273\n",
            "   0.16163632  0.12787361 -0.11679946 -0.02720805]\n",
            " [-0.55399185 -0.09324899  0.22421803  0.23954044  0.3362229  -0.08333193\n",
            "  -0.25752482 -0.16662604  0.503085   -0.5065238 ]\n",
            " [-0.15656905 -0.5448267  -0.11961713  0.6343857  -0.43461204 -0.47646007\n",
            "  -0.16662715 -0.30515632  0.5373396   0.17477085]\n",
            " [ 0.65067583 -0.49858803 -0.46872172  0.07960451  0.5791513  -0.07481871\n",
            "   0.8040812  -0.44262344 -0.25648496  0.01257434]\n",
            " [ 0.23690829 -0.4973174  -0.2600656   0.05354273  0.25851658  0.12623565\n",
            "   0.3696722   0.31149247 -0.11473586  0.18033117]\n",
            " [-0.14777261  0.571989   -0.5524137  -0.2611636  -0.06849878 -0.24502769\n",
            "   0.57172364 -0.48557976  0.22232704 -0.1364092 ]\n",
            " [ 0.31800187  0.47969404 -0.4182334   0.04457646  0.14235851 -0.50249636\n",
            "  -0.00821185 -0.45018825  0.2270638  -0.4081324 ]\n",
            " [-0.41892412 -0.09594794 -0.497177    0.5180909  -0.28458992  0.02247415\n",
            "  -0.05335453 -0.17150018  0.03728085  0.70996726]\n",
            " [-0.3779147  -0.5634188   0.37880906  0.22119637  0.09863093  0.40309948\n",
            "   0.19612788  0.09903853  0.08512972 -0.85408914]\n",
            " [ 0.5938087  -0.2689612  -0.15037724 -0.20846152  0.19673133 -0.59102255\n",
            "  -0.14376822 -0.14114273 -0.33337972  0.29475787]\n",
            " [ 0.15140854  0.15891124  0.09150927 -0.01375519  0.04922266  0.0364889\n",
            "   0.10972846  0.16286388 -0.20746972 -0.15832074]\n",
            " [ 0.57222277  0.2052455   0.34564924 -0.30391148 -0.02731858 -0.24027896\n",
            "  -0.49414128 -0.20437807 -0.07121266 -0.42036462]\n",
            " [ 0.06997494  0.0245722   0.21374401 -0.09889999 -0.04838567  0.20752867\n",
            "   0.10695732  0.01155985  0.2776547   0.13566189]\n",
            " [ 0.03556008 -0.46411812 -0.27482843 -0.71789485  0.63767093  0.4441154\n",
            "   0.29134744 -0.80408865  0.7123076  -0.22150764]\n",
            " [ 0.04458029  0.09219283  0.45818597 -0.3894477   0.1391649  -0.42383707\n",
            "  -0.4618831   0.23585328  0.26054627  0.08055297]\n",
            " [-0.07700477  0.19843607  0.536728   -0.33481622 -0.53028256 -0.26671535\n",
            "   0.3341074   0.261282   -0.28650752  0.3154705 ]\n",
            " [ 0.3060504   0.08237258 -0.04451261  0.17635667  0.12988038 -0.18905391\n",
            "  -0.05399188  0.05960049  0.06004924  0.10057297]\n",
            " [-0.12878917 -0.05738606 -0.05295961  0.05688273  0.29861486  0.11571398\n",
            "   0.07504036  0.20514181  0.22692442  0.29005268]\n",
            " [ 0.7719749  -0.20221297  0.12172875 -0.20787567 -0.24182187 -0.35330927\n",
            "  -0.00812156  0.19090454 -0.22902304 -0.1190642 ]\n",
            " [-0.01043162  0.14780495 -0.29510164 -0.43634644  0.29087085 -0.1333147\n",
            "   0.00202479 -0.21935979  0.19117059  0.16042191]\n",
            " [-0.41157493  0.38877523 -0.25004107 -0.12897414  0.2740084  -0.8147702\n",
            "   0.5264055   0.2911299   0.2752203   0.24963503]\n",
            " [ 0.05921245  0.4233212   0.40190205  0.48221698 -0.16918162 -0.5973597\n",
            "   0.14110827 -0.31063822 -0.25539255 -0.333854  ]\n",
            " [-0.53419846  0.11571608  0.29533613  0.54571563  0.71600354 -0.7737812\n",
            "  -0.05880314  0.31843296 -0.30792007 -0.3038712 ]\n",
            " [-0.3180938  -0.61077917 -0.4781157  -0.41224846  0.31415808  0.7460343\n",
            "   0.15504113  0.48798567 -0.42149794  0.6376984 ]\n",
            " [ 0.3423238  -0.9872518  -0.23225519  0.43531102 -0.58607674  0.5206634\n",
            "   0.2918148  -0.62673277  0.6217608   0.2963774 ]\n",
            " [-0.37427467  0.653731    0.01611046  0.20931438  0.43070993  0.32247075\n",
            "  -0.05935395  0.12265663 -0.58627933  0.09044667]\n",
            " [-0.14984442  0.63549     0.6689362  -0.30943695 -0.3887651  -0.7442935\n",
            "   0.5922003  -0.55145955  0.81508684 -0.32025185]\n",
            " [ 0.27083555 -0.22919993 -0.23060961 -0.06388653 -0.01411972  0.19740292\n",
            "  -0.05968402 -0.09045122 -0.20075773  0.20066066]\n",
            " [ 0.5971331  -0.41606945 -0.38510624 -0.25658283  0.0812437   0.40934196\n",
            "  -0.1328724   0.12579286  0.34551114  0.8212744 ]\n",
            " [-0.21484363 -0.22964509 -0.09448337  0.144828   -0.20317557  0.3116191\n",
            "   0.06344159  0.24995223 -0.15412854 -0.29764804]\n",
            " [ 0.26348832 -0.78545594  0.23001817 -0.12868492 -0.17836443 -0.7302153\n",
            "  -0.727459   -0.7336349   0.7197752   0.5313711 ]\n",
            " [-0.31270057  0.37919548  0.18369032 -0.00547571 -0.50556296 -0.7484875\n",
            "  -0.24098937  0.46763247  0.15248616  0.53874236]\n",
            " [ 0.33163986  0.20619763  0.6936824  -0.55078745 -0.6705242   0.31047463\n",
            "   0.3436893   0.21621533 -0.43853587 -0.59231925]\n",
            " [-0.1910788   0.23759897 -0.34121466  0.55992943 -0.2844503   0.43182868\n",
            "  -0.42019096 -0.5220981  -0.67714804  0.7020774 ]\n",
            " [-0.3431556   0.37326148  0.20578739 -0.50688463  0.32003424 -0.56662315\n",
            "   0.41724014  0.15363058  0.57887053 -0.5634277 ]\n",
            " [ 0.27995452  0.40594003 -0.47370452  0.22486648 -0.08205938  0.39272323\n",
            "   0.22239786 -0.21419063  0.05240401 -0.37045363]\n",
            " [-0.08626577 -0.66479087 -0.5276322   0.2453441  -0.18240927  0.5350209\n",
            "   0.43214756 -0.01359176  0.1817238  -0.37141475]\n",
            " [-0.25011212 -0.48460403  0.6429239   0.06758098  0.22348653 -0.17853513\n",
            "  -0.23773727 -0.01312112  0.30910227 -0.3139224 ]\n",
            " [ 0.78616977 -0.13779218  0.17647143  0.05244808  0.55286646 -0.3062259\n",
            "   0.7897031  -0.12067894 -0.43728775  0.00337726]\n",
            " [-0.3339571   0.5860017  -0.43755662  0.25646135 -0.5336481  -0.0419503\n",
            "   0.3660774  -0.26616487  0.14984041  0.12915507]\n",
            " [-0.16923738  0.4128204   0.45634925  0.08198369 -0.33368966 -0.17780031\n",
            "   0.3744141   0.09970184 -0.05129618 -0.17198578]]\n",
            "Output layer biases (10,) :\n",
            " [ 0.04184905  0.0372864  -0.01089333  0.02578228  0.03583161 -0.04765227\n",
            " -0.03731364 -0.02191223 -0.04117956  0.01273945]\n"
          ],
          "name": "stdout"
        }
      ]
    }
  ]
}
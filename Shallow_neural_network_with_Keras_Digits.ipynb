{
  "nbformat": 4,
  "nbformat_minor": 0,
  "metadata": {
    "colab": {
      "name": "Shallow_neural_network_with_Keras_Digits.ipynb",
      "version": "0.3.2",
      "provenance": [],
      "collapsed_sections": [],
      "include_colab_link": true
    },
    "kernelspec": {
      "name": "python3",
      "display_name": "Python 3"
    }
  },
  "cells": [
    {
      "cell_type": "markdown",
      "metadata": {
        "id": "view-in-github",
        "colab_type": "text"
      },
      "source": [
        "<a href=\"https://colab.research.google.com/github/DavorJordacevic/NEURAL-NETWORKS-/blob/master/Shallow_neural_network_with_Keras_Digits.ipynb\" target=\"_parent\"><img src=\"https://colab.research.google.com/assets/colab-badge.svg\" alt=\"Open In Colab\"/></a>"
      ]
    },
    {
      "metadata": {
        "id": "Qvgi-JMWWE7G",
        "colab_type": "text"
      },
      "cell_type": "markdown",
      "source": [
        "# Shallow neural network with Keras"
      ]
    },
    {
      "metadata": {
        "id": "WhkOyrVJEYam",
        "colab_type": "text"
      },
      "cell_type": "markdown",
      "source": [
        "Keras is a high-level neural networks API, written in Python and capable of running on top of TensorFlow, CNTK, or Theano. "
      ]
    },
    {
      "metadata": {
        "id": "hW3bMJKTWA4J",
        "colab_type": "code",
        "outputId": "3fd9dad2-7ea8-4c60-902b-c39a9de5fab3",
        "colab": {
          "base_uri": "https://localhost:8080/",
          "height": 34
        }
      },
      "cell_type": "code",
      "source": [
        "import numpy as np\n",
        "import matplotlib.pyplot as plt\n",
        "import keras\n",
        "import warnings\n",
        "from mpl_toolkits import mplot3d\n",
        "from matplotlib import cm\n",
        "from keras.models import Sequential\n",
        "from keras.layers import Dense\n",
        "from keras.optimizers import adam\n",
        "from keras.utils import np_utils\n",
        "from sklearn import datasets\n",
        "from sklearn.model_selection import train_test_split\n",
        "from sklearn.model_selection import StratifiedKFold\n",
        "from sklearn.model_selection import cross_val_score\n",
        "warnings.filterwarnings(\"ignore\")"
      ],
      "execution_count": 1,
      "outputs": [
        {
          "output_type": "stream",
          "text": [
            "Using TensorFlow backend.\n"
          ],
          "name": "stderr"
        }
      ]
    },
    {
      "metadata": {
        "id": "hnyYTfqKEknD",
        "colab_type": "text"
      },
      "cell_type": "markdown",
      "source": [
        "# 1. Load the digit dataset"
      ]
    },
    {
      "metadata": {
        "id": "c7hQexApWZGB",
        "colab_type": "code",
        "outputId": "4b738bb3-9426-44af-eda2-dc7e4d931146",
        "colab": {
          "base_uri": "https://localhost:8080/",
          "height": 34
        }
      },
      "cell_type": "code",
      "source": [
        "digits = datasets.load_digits()\n",
        "X_digits = digits.data\n",
        "y_digits = digits.target\n",
        "\n",
        "digits.keys()"
      ],
      "execution_count": 2,
      "outputs": [
        {
          "output_type": "execute_result",
          "data": {
            "text/plain": [
              "dict_keys(['data', 'target', 'target_names', 'images', 'DESCR'])"
            ]
          },
          "metadata": {
            "tags": []
          },
          "execution_count": 2
        }
      ]
    },
    {
      "metadata": {
        "id": "1SuTLSKrFcK7",
        "colab_type": "text"
      },
      "cell_type": "markdown",
      "source": [
        "### 1.1 Spliting data into train and test sets"
      ]
    },
    {
      "metadata": {
        "id": "xnuuumc3WjsC",
        "colab_type": "code",
        "outputId": "b7095feb-7e26-478b-fc5d-9ad99e910321",
        "colab": {
          "base_uri": "https://localhost:8080/",
          "height": 85
        }
      },
      "cell_type": "code",
      "source": [
        "print(X_digits.shape)\n",
        "print(y_digits.shape)\n",
        "print(type(X_digits))\n",
        "print(type(y_digits))\n",
        "\n",
        "# Spliting data into train and test\n",
        "X_train, X_test, y_train, y_test = train_test_split(X_digits, y_digits, test_size=0.33, random_state=42)"
      ],
      "execution_count": 3,
      "outputs": [
        {
          "output_type": "stream",
          "text": [
            "(1797, 64)\n",
            "(1797,)\n",
            "<class 'numpy.ndarray'>\n",
            "<class 'numpy.ndarray'>\n"
          ],
          "name": "stdout"
        }
      ]
    },
    {
      "metadata": {
        "id": "GWH4dB55FjWh",
        "colab_type": "text"
      },
      "cell_type": "markdown",
      "source": [
        "### 1.2 Checking the shape of the input data"
      ]
    },
    {
      "metadata": {
        "id": "udxYNeo7X3FC",
        "colab_type": "code",
        "outputId": "ce347a63-6a0a-4368-e692-91e40d68bf4d",
        "colab": {
          "base_uri": "https://localhost:8080/",
          "height": 85
        }
      },
      "cell_type": "code",
      "source": [
        "print('x_train:\\t{}' .format(X_train.shape))\n",
        "print('y_train:\\t{}' .format(y_train.shape))\n",
        "print('x_test:\\t\\t{}'.format(X_test.shape))\n",
        "print('y_test:\\t\\t{}'.format(y_test.shape))"
      ],
      "execution_count": 4,
      "outputs": [
        {
          "output_type": "stream",
          "text": [
            "x_train:\t(1203, 64)\n",
            "y_train:\t(1203,)\n",
            "x_test:\t\t(594, 64)\n",
            "y_test:\t\t(594,)\n"
          ],
          "name": "stdout"
        }
      ]
    },
    {
      "metadata": {
        "id": "LsyiXQEPFyTR",
        "colab_type": "text"
      },
      "cell_type": "markdown",
      "source": [
        "### 1.3 Plot first 64 digits"
      ]
    },
    {
      "metadata": {
        "id": "yUc3oyTaF_lt",
        "colab_type": "text"
      },
      "cell_type": "markdown",
      "source": [
        "Now we can plot some digits to see how they look.\n",
        "\n",
        "*digits.target* contain real value for each image in *digits.images*"
      ]
    },
    {
      "metadata": {
        "id": "nEVXBPVxWo5P",
        "colab_type": "code",
        "outputId": "2182f07f-393c-4825-9bae-97f8875a726f",
        "colab": {
          "base_uri": "https://localhost:8080/",
          "height": 463
        }
      },
      "cell_type": "code",
      "source": [
        "# set up the figure\n",
        "fig = plt.figure(figsize=(6, 6))\n",
        "fig.subplots_adjust(left=0, right=1, bottom=0, top=1, hspace=0.05, wspace=0.05)\n",
        "\n",
        "# plot the digits: each image is 8x8 pixels\n",
        "for i in range(64):\n",
        "    ax = fig.add_subplot(8, 8, i + 1, xticks=[], yticks=[])\n",
        "    ax.imshow(digits.images[i], cmap=plt.cm.binary, interpolation='nearest')\n",
        "    \n",
        "    # label the image with the target value\n",
        "    ax.text(0, 7, str(digits.target[i]))"
      ],
      "execution_count": 5,
      "outputs": [
        {
          "output_type": "display_data",
          "data": {
            "image/png": "[encoded data removed]",
            "text/plain": [
              "<Figure size 432x432 with 64 Axes>"
            ]
          },
          "metadata": {
            "tags": []
          }
        }
      ]
    },
    {
      "metadata": {
        "id": "8M7sv5aKHO8u",
        "colab_type": "text"
      },
      "cell_type": "markdown",
      "source": [
        "### 1.4 One Hot Encoding"
      ]
    },
    {
      "metadata": {
        "id": "eXSiCvV5HOct",
        "colab_type": "text"
      },
      "cell_type": "markdown",
      "source": [
        "Many machine learning algorithms cannot operate on label data directly. They require all input variables and output variables to be numeric.\n",
        "\n",
        "This means that categorical data must be converted to a numerical form."
      ]
    },
    {
      "metadata": {
        "id": "5fd0jduAcB33",
        "colab_type": "code",
        "colab": {}
      },
      "cell_type": "code",
      "source": [
        "# one hot encode outputs\n",
        "y_train = np_utils.to_categorical(y_train)\n",
        "y_test = np_utils.to_categorical(y_test)\n",
        "num_classes = y_test.shape[1]"
      ],
      "execution_count": 0,
      "outputs": []
    },
    {
      "metadata": {
        "id": "whMqOSODFtZK",
        "colab_type": "text"
      },
      "cell_type": "markdown",
      "source": [
        "# 2. Create the network"
      ]
    },
    {
      "metadata": {
        "id": "02jtZOiiH60k",
        "colab_type": "text"
      },
      "cell_type": "markdown",
      "source": [
        "### 2.1 Hyper-parameters"
      ]
    },
    {
      "metadata": {
        "id": "4V-FW8jVX63r",
        "colab_type": "code",
        "colab": {}
      },
      "cell_type": "code",
      "source": [
        "# Hyper-parameters\n",
        "training_epochs = 100 # Total number of training epochs\n",
        "learning_rate = 0.01 # The learning rate"
      ],
      "execution_count": 0,
      "outputs": []
    },
    {
      "metadata": {
        "id": "BB1jrI_jH-LD",
        "colab_type": "text"
      },
      "cell_type": "markdown",
      "source": [
        "### 2.2 Creating a model"
      ]
    },
    {
      "metadata": {
        "id": "_e6qDza_ICoj",
        "colab_type": "text"
      },
      "cell_type": "markdown",
      "source": [
        "Our model will have 2 layers, with 64(*height x width*) neurons in the input layer and 10 neurons in the output layer.\n",
        "We will use normal initializer that generates tensors with a normal distribution.\n",
        "\n",
        "The optimizer we'll use is **Adam** .It is an optimization algorithm that can be used instead of the classical stochastic gradient descent procedure to update network weights iterative based on training data. Adam is a popular algorithm in the field of deep learning because it achieves good results fast. Default parameters follow those provided in the original paper. \n",
        "\n",
        "To make this work in keras we need to compile the model. An important choice to make is the loss function. We use the **categorical_crossentropy** loss because it measures the probability error in discrete classification tasks in which the classes are mutually exclusive (each entry is in exactly one class)."
      ]
    },
    {
      "metadata": {
        "id": "7gr1pPJgX61j",
        "colab_type": "code",
        "outputId": "886e643d-6df5-49b5-c54a-610e8b5fc1ba",
        "colab": {
          "base_uri": "https://localhost:8080/",
          "height": 204
        }
      },
      "cell_type": "code",
      "source": [
        "# create model\n",
        "def create_model():\n",
        "  model = Sequential()\n",
        "  # Input layer\n",
        "  model.add(Dense(64, input_dim=64, kernel_initializer='normal',\n",
        "            kernel_regularizer= keras.regularizers.l2(0.01),activation='tanh'))\n",
        "  # Output layer\n",
        "  model.add(Dense(10, activation='softmax'))\n",
        " \n",
        "  # Compile model\n",
        "  model.compile(loss='categorical_crossentropy', optimizer=adam(learning_rate), metrics=['accuracy'])\n",
        "  return model\n",
        "model = create_model()\n",
        "model.summary()"
      ],
      "execution_count": 8,
      "outputs": [
        {
          "output_type": "stream",
          "text": [
            "_________________________________________________________________\n",
            "Layer (type)                 Output Shape              Param #   \n",
            "=================================================================\n",
            "dense_1 (Dense)              (None, 64)                4160      \n",
            "_________________________________________________________________\n",
            "dense_2 (Dense)              (None, 10)                650       \n",
            "=================================================================\n",
            "Total params: 4,810\n",
            "Trainable params: 4,810\n",
            "Non-trainable params: 0\n",
            "_________________________________________________________________\n"
          ],
          "name": "stdout"
        }
      ]
    },
    {
      "metadata": {
        "id": "6EvcG3osJTn3",
        "colab_type": "text"
      },
      "cell_type": "markdown",
      "source": [
        "### 2.3 Train the mode"
      ]
    },
    {
      "metadata": {
        "id": "SzCPgWtaJVbn",
        "colab_type": "text"
      },
      "cell_type": "markdown",
      "source": [
        "Let's trains the model for a given number of epochs."
      ]
    },
    {
      "metadata": {
        "id": "xpaHdxMsX6x6",
        "colab_type": "code",
        "colab": {}
      },
      "cell_type": "code",
      "source": [
        "results = model.fit(\n",
        " X_train, y_train,\n",
        " epochs= training_epochs,\n",
        " batch_size = 516,\n",
        " validation_data = (X_test, y_test),\n",
        " verbose = 0\n",
        ")"
      ],
      "execution_count": 0,
      "outputs": []
    },
    {
      "metadata": {
        "id": "A2J9-tnLJYIW",
        "colab_type": "text"
      },
      "cell_type": "markdown",
      "source": [
        "### 2.4 Test the model"
      ]
    },
    {
      "metadata": {
        "id": "3ZKU8VLpJbWk",
        "colab_type": "text"
      },
      "cell_type": "markdown",
      "source": [
        "Model can generate output predictions for the input samples."
      ]
    },
    {
      "metadata": {
        "id": "AYK4prZ2YY5E",
        "colab_type": "code",
        "colab": {}
      },
      "cell_type": "code",
      "source": [
        "prediction_values = model.predict_classes(X_test)"
      ],
      "execution_count": 0,
      "outputs": []
    },
    {
      "metadata": {
        "id": "6InzOUqfJaxN",
        "colab_type": "text"
      },
      "cell_type": "markdown",
      "source": [
        "### 2.5 Mean error value"
      ]
    },
    {
      "metadata": {
        "id": "yr-RAE_MjljU",
        "colab_type": "text"
      },
      "cell_type": "markdown",
      "source": [
        "Test-Accuracy :"
      ]
    },
    {
      "metadata": {
        "id": "uZiHPMfIYpNw",
        "colab_type": "code",
        "outputId": "56d1bd64-7528-43bc-8171-51683348b029",
        "colab": {
          "base_uri": "https://localhost:8080/",
          "height": 34
        }
      },
      "cell_type": "code",
      "source": [
        "print(\"Test-Accuracy:\",\"%.2f%%\" % (np.mean(results.history[\"val_acc\"])*100))"
      ],
      "execution_count": 11,
      "outputs": [
        {
          "output_type": "stream",
          "text": [
            "Test-Accuracy: 96.53%\n"
          ],
          "name": "stdout"
        }
      ]
    },
    {
      "metadata": {
        "id": "Nxsdsse8Jiih",
        "colab_type": "text"
      },
      "cell_type": "markdown",
      "source": [
        "### 2.6 Evaluate the model to see the accuracy"
      ]
    },
    {
      "metadata": {
        "id": "KFMbkie9JkJW",
        "colab_type": "text"
      },
      "cell_type": "markdown",
      "source": [
        "Now we can check the accuracy of our model"
      ]
    },
    {
      "metadata": {
        "id": "n2DTxPRAYpLg",
        "colab_type": "code",
        "outputId": "70e1198a-af64-4d1c-8497-975cd8182a70",
        "colab": {
          "base_uri": "https://localhost:8080/",
          "height": 119
        }
      },
      "cell_type": "code",
      "source": [
        "print(\"Evaluating on training set...\")\n",
        "(loss, accuracy) = model.evaluate(X_train,y_train)\n",
        "print(\"loss={:.4f}, accuracy: {:.4f}%\".format(loss,accuracy * 100))\n",
        "\n",
        "\n",
        "print(\"Evaluating on testing set...\")\n",
        "(loss, accuracy) = model.evaluate(X_test, y_test)\n",
        "print(\"loss={:.4f}, accuracy: {:.4f}%\".format(loss,accuracy * 100))"
      ],
      "execution_count": 12,
      "outputs": [
        {
          "output_type": "stream",
          "text": [
            "Evaluating on training set...\n",
            "1203/1203 [==============================] - 0s 28us/step\n",
            "loss=0.0286, accuracy: 100.0000%\n",
            "Evaluating on testing set...\n",
            "594/594 [==============================] - 0s 27us/step\n",
            "loss=0.0941, accuracy: 97.8114%\n"
          ],
          "name": "stdout"
        }
      ]
    },
    {
      "metadata": {
        "id": "WvB7Wmz_JnS7",
        "colab_type": "text"
      },
      "cell_type": "markdown",
      "source": [
        "### 2.7 Summarize history for accuracy"
      ]
    },
    {
      "metadata": {
        "id": "Gj0ghedxYpJK",
        "colab_type": "code",
        "outputId": "fe3013de-e654-4190-acd1-403bc7629a85",
        "colab": {
          "base_uri": "https://localhost:8080/",
          "height": 393
        }
      },
      "cell_type": "code",
      "source": [
        "# summarize history for accuracy\n",
        "plt.plot(results.history['acc'])\n",
        "plt.plot(results.history['val_acc'])\n",
        "plt.title('model accuracy')\n",
        "plt.ylabel('accuracy')\n",
        "plt.xlabel('epoch')\n",
        "plt.legend(['train', 'test'], loc='down right')"
      ],
      "execution_count": 13,
      "outputs": [
        {
          "output_type": "execute_result",
          "data": {
            "text/plain": [
              "<matplotlib.legend.Legend at 0x7f504b70f240>"
            ]
          },
          "metadata": {
            "tags": []
          },
          "execution_count": 13
        },
        {
          "output_type": "display_data",
          "data": {
            "image/png": "[encoded data removed]",
            "text/plain": [
              "<Figure size 576x396 with 1 Axes>"
            ]
          },
          "metadata": {
            "tags": []
          }
        }
      ]
    },
    {
      "metadata": {
        "id": "-bf-Ig5WJq26",
        "colab_type": "text"
      },
      "cell_type": "markdown",
      "source": [
        "### 2.8 Summarize history for loss"
      ]
    },
    {
      "metadata": {
        "id": "pphKtdvYY0Nz",
        "colab_type": "code",
        "outputId": "088fa728-3cab-41ef-9872-e4e7a3f88bdb",
        "colab": {
          "base_uri": "https://localhost:8080/",
          "height": 461
        }
      },
      "cell_type": "code",
      "source": [
        "# summarize history for loss\n",
        "plt.plot(results.history['loss'])\n",
        "plt.plot(results.history['val_loss'])\n",
        "plt.title('model loss')\n",
        "plt.ylabel('loss')\n",
        "plt.xlabel('epoch')\n",
        "plt.legend(['train', 'test'], loc='upper right')\n",
        "\n",
        "max_loss = np.max(results.history['loss'])\n",
        "min_loss = np.min(results.history['loss'])\n",
        "print(\"Maximum Loss : {:.4f}\".format(max_loss))\n",
        "print(\"\")\n",
        "print(\"Minimum Loss : {:.4f}\".format(min_loss))\n",
        "print(\"\")\n",
        "print(\"Loss difference : {:.4f}\".format((max_loss - min_loss)))"
      ],
      "execution_count": 14,
      "outputs": [
        {
          "output_type": "stream",
          "text": [
            "Maximum Loss : 2.5770\n",
            "\n",
            "Minimum Loss : 0.0282\n",
            "\n",
            "Loss difference : 2.5488\n"
          ],
          "name": "stdout"
        },
        {
          "output_type": "display_data",
          "data": {
            "image/png": "[encoded data removed]",
            "text/plain": [
              "<Figure size 576x396 with 1 Axes>"
            ]
          },
          "metadata": {
            "tags": []
          }
        }
      ]
    },
    {
      "metadata": {
        "id": "nHfiLBxpHvPE",
        "colab_type": "text"
      },
      "cell_type": "markdown",
      "source": [
        "# 3. Visualization"
      ]
    },
    {
      "metadata": {
        "id": "UExzNG6WJzqG",
        "colab_type": "text"
      },
      "cell_type": "markdown",
      "source": [
        "### 3.3 Display the test set and predictions"
      ]
    },
    {
      "metadata": {
        "id": "G-IZtwjDWBWG",
        "colab_type": "code",
        "outputId": "dc57d9f9-6bdc-4fee-c3e3-94dff9836427",
        "colab": {
          "base_uri": "https://localhost:8080/",
          "height": 506
        }
      },
      "cell_type": "code",
      "source": [
        "# set up the figure\n",
        "fig = plt.figure(figsize=(15, 7))\n",
        "fig.subplots_adjust(left=0, right=1, bottom=0, top=1, hspace=0.05, wspace=0.05)\n",
        "\n",
        "# plot the digits: each image is 8x8 pixels\n",
        "for i in range(120):\n",
        "    ax = fig.add_subplot(6, 20, i + 1, xticks=[], yticks=[])\n",
        "    ax.imshow(X_test[i,:].reshape((8,8)),cmap=plt.cm.gray_r, interpolation='nearest')\n",
        "    \n",
        "    # label the image with the target value\n",
        "    ax.text(0, 7, str(prediction_values[i]))"
      ],
      "execution_count": 15,
      "outputs": [
        {
          "output_type": "display_data",
          "data": {
            "image/png": "[encoded data removed]",
            "text/plain": [
              "<Figure size 1080x504 with 120 Axes>"
            ]
          },
          "metadata": {
            "tags": []
          }
        }
      ]
    },
    {
      "metadata": {
        "id": "0T-63fnSJyT5",
        "colab_type": "text"
      },
      "cell_type": "markdown",
      "source": [
        "### 3.2 Display the weights and biases of our model"
      ]
    },
    {
      "metadata": {
        "id": "GrdnWl9Jc7n6",
        "colab_type": "code",
        "outputId": "53444ff6-e854-412e-d342-e897d1be9bee",
        "colab": {
          "base_uri": "https://localhost:8080/",
          "height": 3808
        }
      },
      "cell_type": "code",
      "source": [
        "# Input layer\n",
        "weights0 = model.layers[0].get_weights()[0]\n",
        "biases0 = model.layers[0].get_weights()[1]\n",
        "print(\"Input layer weights\",weights0.shape,\":\\n\",weights0)\n",
        "print(\"Input layer biases\",biases0.shape,\":\\n\",biases0)\n",
        "\n",
        "\n",
        "# Output layer\n",
        "weights1 = model.layers[1].get_weights()[0]\n",
        "biases1 = model.layers[1].get_weights()[1]\n",
        "print(\"\\nOutput layer weights\",weights1.shape,\":\\n\",weights1)\n",
        "print(\"Output layer biases\",biases1.shape,\":\\n\",biases1)"
      ],
      "execution_count": 16,
      "outputs": [
        {
          "output_type": "stream",
          "text": [
            "Input layer weights (64, 64) :\n",
            " [[-1.9338269e-09  9.9761692e-09  6.1644263e-09 ...  7.3207476e-09\n",
            "   6.7223103e-09 -5.9653376e-09]\n",
            " [-4.0999567e-03  6.5478841e-03  1.6160484e-02 ... -1.5781240e-03\n",
            "  -2.9144357e-03 -1.2368693e-03]\n",
            " [-4.2532748e-03  1.2523134e-02 -1.8816341e-02 ... -5.9774211e-03\n",
            "  -4.0428150e-03 -5.1849809e-02]\n",
            " ...\n",
            " [-1.8526470e-02 -7.6773628e-03  2.7927471e-02 ...  2.1515884e-03\n",
            "  -1.8018320e-02  2.7550181e-02]\n",
            " [ 1.1284457e-02 -2.1114253e-02  2.7366996e-02 ...  7.8304233e-03\n",
            "  -3.9567305e-03  6.9314218e-03]\n",
            " [ 2.0642852e-02 -2.6657158e-03 -4.1126586e-03 ...  3.9743665e-03\n",
            "   4.1263946e-04  1.9972617e-02]]\n",
            "Input layer biases (64,) :\n",
            " [-0.10964768  0.08202061 -0.02784058  0.14515239 -0.06606875 -0.02981577\n",
            "  0.01321794  0.05527663 -0.02166332  0.08870235 -0.02740195 -0.0833742\n",
            " -0.03388772 -0.02640772  0.01759721  0.04973908 -0.12234868  0.02431352\n",
            " -0.00447538 -0.15337977  0.01789165  0.00398867 -0.07671404 -0.06023181\n",
            "  0.03744029 -0.00866342 -0.07070249 -0.08092108 -0.05923812  0.05852301\n",
            " -0.0108414   0.07831035 -0.02968803  0.0142623   0.01741    -0.02650151\n",
            "  0.05732851 -0.02596804 -0.03077225 -0.00504779 -0.03596366  0.08911277\n",
            "  0.00312744 -0.08617102 -0.06389241 -0.02686052  0.01007104  0.06660779\n",
            " -0.06789736  0.18040109  0.04647424 -0.00964853 -0.00801705  0.08418607\n",
            " -0.0209987  -0.13201264  0.03277069 -0.02580255  0.01766541 -0.07844417\n",
            "  0.00555094  0.1409219   0.06145506 -0.06423447]\n",
            "\n",
            "Output layer weights (64, 10) :\n",
            " [[-1.43953055e-01  4.38699722e-01 -4.02994268e-02 -4.48677465e-02\n",
            "   6.16036654e-01 -1.06991023e-01 -3.03166389e-01  4.53585722e-02\n",
            "  -4.74332899e-01 -3.18519235e-01]\n",
            " [ 1.53873265e-01  5.98176382e-02 -1.39973968e-01  6.77612573e-02\n",
            "  -5.73137263e-03  1.24522023e-01  1.49293944e-01  2.45098040e-01\n",
            "   1.65320903e-01 -1.36345431e-01]\n",
            " [-3.16787481e-01 -1.17432892e-01  5.65569580e-01  8.33324373e-01\n",
            "   2.87673622e-02 -2.05775231e-01 -2.49454185e-01 -3.50334138e-01\n",
            "  -5.05130649e-01 -3.05774629e-01]\n",
            " [ 2.43515104e-01 -2.64917046e-01 -1.80194169e-01  1.40463293e-01\n",
            "  -8.09842870e-02  3.49191457e-01 -3.01456720e-01  1.85736373e-01\n",
            "   4.52026608e-04  1.83355898e-01]\n",
            " [-2.55122688e-02  3.83537233e-01 -1.74095228e-01 -8.63022730e-02\n",
            "   2.68724978e-01  3.22538704e-01  1.77870050e-01 -3.43834817e-01\n",
            "  -2.28663296e-01  2.04864815e-01]\n",
            " [ 2.60556713e-02 -1.47732809e-01  4.57188077e-02 -1.43293902e-01\n",
            "   9.46101546e-02 -1.51407093e-01  9.02286321e-02  1.83422551e-01\n",
            "   1.25271976e-01  2.42589563e-01]\n",
            " [ 1.49520442e-01 -2.72647738e-01 -6.44657984e-02 -4.43679869e-01\n",
            "   6.18800640e-01  2.61337847e-01  3.76356281e-02 -5.51803827e-01\n",
            "   3.07235360e-01  4.66659248e-01]\n",
            " [-4.50806051e-01  2.79697418e-01 -7.17903197e-01  3.69208276e-01\n",
            "   9.12631452e-02  3.78867865e-01  3.21955860e-01  2.67958313e-01\n",
            "   3.49402010e-01 -7.47559786e-01]\n",
            " [-3.32366675e-01 -4.42024082e-01 -4.72798139e-01 -2.74323821e-01\n",
            "  -8.39180895e-04  2.76409745e-01  5.93948960e-01  2.78461337e-01\n",
            "   4.89752859e-01  4.62224334e-01]\n",
            " [-6.43648878e-02 -2.58668989e-01  1.10227376e-01 -2.19829567e-02\n",
            "  -1.54470280e-01 -2.15226561e-01 -2.67697811e-01 -2.72071868e-01\n",
            "  -1.32108122e-01 -4.66608144e-02]\n",
            " [-3.99202436e-01  4.71103877e-01 -3.77569109e-01 -2.31159449e-01\n",
            "   5.73372662e-01  4.13081944e-01 -5.16740561e-01  5.00034094e-01\n",
            "  -2.35492691e-01 -9.76835787e-02]\n",
            " [ 4.27612774e-02  2.83937544e-01  3.63187522e-01  3.85202259e-01\n",
            "  -6.15984619e-01  1.79047063e-01 -2.12283850e-01  2.72190183e-01\n",
            "   3.25794488e-01 -1.50953248e-01]\n",
            " [-2.99618453e-01  9.03374106e-02  5.16407967e-01 -4.07582372e-01\n",
            "   6.57599986e-01 -4.83617842e-01  5.03537834e-01  9.16198716e-02\n",
            "   6.35261178e-01 -4.41379964e-01]\n",
            " [-4.05706167e-01  4.28967446e-01  2.00585902e-01  4.48709190e-01\n",
            "   1.60076439e-01 -2.60832101e-01 -2.87303716e-01  5.96069515e-01\n",
            "  -3.70583594e-01 -2.50916541e-01]\n",
            " [-3.20291132e-01  1.37512892e-01  2.40588910e-03 -1.13357268e-01\n",
            "   4.90809530e-01 -1.04961783e-01 -5.98389171e-02  2.04476997e-01\n",
            "  -1.46065786e-01  2.83565044e-01]\n",
            " [ 1.89322412e-01 -2.56945014e-01 -4.52504814e-01  5.09381115e-01\n",
            "  -1.76744729e-01  1.52843833e-01 -9.49553400e-02  1.91344872e-01\n",
            "  -6.31820917e-01  4.32778448e-01]\n",
            " [ 3.26760055e-04 -3.89742479e-02  2.82403789e-02 -1.60652280e-01\n",
            "  -2.11089805e-01  1.36014432e-01  8.72625317e-03  2.03659788e-01\n",
            "   1.89776003e-01  6.42441865e-03]\n",
            " [ 4.71560597e-01  9.38558429e-02  7.38350004e-02 -6.23368561e-01\n",
            "   2.94837922e-01  8.53069425e-01 -1.18326738e-01 -3.14443916e-01\n",
            "  -7.56593764e-01 -3.01486142e-02]\n",
            " [-4.42503512e-01  4.50348914e-01  4.85049307e-01  1.17135914e-02\n",
            "   5.35920084e-01  8.94203875e-03  2.78466791e-01  4.51907545e-01\n",
            "  -7.75044680e-01 -3.00988376e-01]\n",
            " [-2.42560104e-01  4.61572319e-01 -2.71230608e-01  5.84941395e-02\n",
            "  -3.38234812e-01  2.82132030e-01  2.54311413e-01 -5.62483668e-01\n",
            "   1.94083035e-01  4.85766113e-01]\n",
            " [-4.46828634e-01 -1.61728039e-01  1.98449358e-01  1.19418269e-02\n",
            "   1.38985842e-01  2.79446483e-01 -1.00194223e-01 -2.15929195e-01\n",
            "  -1.72841042e-01 -2.30491422e-02]\n",
            " [ 3.16398740e-01  2.62489021e-01 -4.13860559e-01 -3.39174449e-01\n",
            "   4.10276592e-01 -1.04067571e-01  6.48989603e-02 -5.30184731e-02\n",
            "   5.02701104e-01 -8.61176968e-01]\n",
            " [-3.47011238e-01  1.64558306e-01  1.17759071e-01 -3.54847401e-01\n",
            "  -4.98768613e-02  4.29401904e-01  3.82453948e-01  1.68793034e-02\n",
            "  -4.89510268e-01 -2.74318874e-01]\n",
            " [-5.51481962e-01  6.38547003e-01 -6.01437151e-01 -6.66189268e-02\n",
            "  -1.36387289e-01 -1.11556798e-02 -2.57633924e-01 -3.14668745e-01\n",
            "   5.38057446e-01  4.91651088e-01]\n",
            " [ 1.86256424e-01 -1.32198319e-01 -2.88249731e-01 -2.97473013e-01\n",
            "   3.68337691e-01 -3.91932018e-02 -3.07249576e-01 -3.16955209e-01\n",
            "  -4.24349457e-01  5.31503439e-01]\n",
            " [-2.13252410e-01 -4.94529963e-01 -3.91877443e-01  2.76783984e-02\n",
            "   1.93717167e-01  4.50592756e-01 -3.61208379e-01  6.89860225e-01\n",
            "   3.93263459e-01 -1.86410666e-01]\n",
            " [-7.48422742e-02  5.82142711e-01  3.26918542e-01  1.79316342e-01\n",
            "  -6.30583107e-01 -6.02868497e-01  2.38162756e-01 -5.72515689e-02\n",
            "   1.47518918e-01  2.31696412e-01]\n",
            " [-3.46751921e-02  2.45951135e-02 -1.41066909e-01 -2.37450585e-01\n",
            "  -9.84354876e-03  4.98134494e-02  8.17593932e-03 -1.05008788e-01\n",
            "   2.02050596e-01  1.41715586e-01]\n",
            " [-3.19815218e-01 -9.56655294e-02  4.83224481e-01 -2.25362442e-02\n",
            "  -3.52782041e-01 -3.01205795e-02  4.40761417e-01 -3.27254146e-01\n",
            "   2.20335513e-01 -2.04871863e-01]\n",
            " [-8.68155584e-02 -9.52750370e-02  2.16132507e-01 -7.59012252e-02\n",
            "  -1.45709991e-01  5.93863241e-02  2.26813734e-01 -7.10733905e-02\n",
            "  -2.40215853e-01  1.97298992e-02]\n",
            " [-5.68916857e-01  1.92388266e-01  2.37794384e-01  1.34729192e-01\n",
            "  -8.74050781e-02 -6.45354033e-01 -2.30786949e-01 -1.37554020e-01\n",
            "   1.97534561e-01  5.88044345e-01]\n",
            " [ 4.58375886e-02  2.35313103e-01  3.04157764e-01  2.47961551e-01\n",
            "   2.27793485e-01 -3.36461812e-02  2.12768465e-01 -2.36260723e-02\n",
            "   1.03440210e-01 -9.00540724e-02]\n",
            " [-4.04202670e-01  5.78915298e-01 -4.17304397e-01 -6.06415272e-01\n",
            "   2.65265077e-01  4.69844669e-01  2.88509041e-01 -1.13781050e-01\n",
            "  -2.60532379e-01 -3.04166585e-01]\n",
            " [-2.77989328e-01  5.72055541e-02 -5.73841408e-02 -2.38357455e-01\n",
            "  -3.02228421e-01  2.03011841e-01  1.93942294e-01  9.59335268e-02\n",
            "  -1.54754266e-01 -1.59038410e-01]\n",
            " [-1.64467227e-02 -7.10385263e-01  2.73774892e-01  4.64692801e-01\n",
            "  -2.00981855e-01  3.53434891e-01 -1.19219847e-01  4.90119904e-02\n",
            "   3.16535443e-01  3.82411212e-01]\n",
            " [ 3.84794742e-01  6.91798329e-02 -8.96744132e-02  3.54981013e-02\n",
            "   1.05653398e-01 -1.50280595e-01 -1.11864038e-01 -2.73916751e-01\n",
            "   8.10862631e-02  8.35327506e-02]\n",
            " [ 3.47790271e-01 -1.57494903e-01 -1.80712342e-01  4.16046739e-01\n",
            "  -1.78946912e-01 -6.23831868e-01  2.35366374e-01  5.90797901e-01\n",
            "   1.87111363e-01  2.23869041e-01]\n",
            " [-3.34965944e-01  2.56846994e-01  3.30115318e-01  1.54526666e-01\n",
            "  -5.02284288e-01 -9.65825170e-02  4.04725075e-01 -4.20647860e-01\n",
            "   2.96664357e-01 -4.40188676e-01]\n",
            " [-2.07978070e-01 -5.38952410e-01 -3.10014188e-01 -2.29656413e-01\n",
            "   5.06119430e-01 -8.57548192e-02  4.97473627e-01 -1.41285621e-02\n",
            "  -7.19993189e-02 -3.01934183e-01]\n",
            " [ 4.43435401e-01 -4.61694270e-01 -4.79158938e-01 -5.28057098e-01\n",
            "   3.35849643e-01 -1.85440660e-01  1.89787865e-01 -5.47082245e-01\n",
            "   6.44254088e-01  4.65403527e-01]\n",
            " [ 4.98412907e-01  1.03580616e-01  3.42453063e-01 -5.82965799e-02\n",
            "  -5.75650811e-01  7.19831109e-01  3.96725357e-01 -3.39538008e-01\n",
            "  -6.23524606e-01 -4.30327773e-01]\n",
            " [-5.14765419e-02 -2.36954510e-01 -2.13850085e-02  1.23453774e-01\n",
            "   2.24806711e-01 -8.85461569e-02 -1.39479667e-01 -1.49286062e-01\n",
            "  -1.36975765e-01  1.82780415e-01]\n",
            " [-6.35923147e-02  3.01145524e-01 -3.94869484e-02 -5.70091128e-01\n",
            "   1.26503929e-01 -7.25321054e-01  5.82313463e-02  4.93093073e-01\n",
            "   1.77303508e-01  4.12340283e-01]\n",
            " [ 1.61229357e-01 -1.05704712e-02  2.28014156e-01 -1.62044734e-01\n",
            "  -1.01953581e-01 -2.22565502e-01 -1.27846807e-01  1.10639013e-01\n",
            "  -4.09106649e-02 -3.07275862e-01]\n",
            " [ 1.48353294e-01  8.06047618e-02  1.96204171e-01  2.82195210e-01\n",
            "  -1.82430565e-01  1.22699775e-01  1.15654282e-01  1.85776614e-02\n",
            "  -2.57669777e-01 -2.07725182e-01]\n",
            " [-3.42653811e-01 -4.59047198e-01 -8.51876974e-01  6.52235150e-01\n",
            "  -2.97132164e-01  4.00671095e-01 -5.94861433e-02 -1.34285092e-01\n",
            "   1.42072618e-01 -3.77583414e-01]\n",
            " [-5.08229017e-01 -6.17380321e-01  6.90799415e-01 -2.52314001e-01\n",
            "   5.76384187e-01 -7.73422122e-02 -3.24551940e-01  4.62116688e-01\n",
            "  -8.16037804e-02  5.06511629e-01]\n",
            " [-2.27752805e-01 -1.41755462e-01  2.06313413e-02  1.14093125e-01\n",
            "  -2.01169595e-01 -3.35267514e-01 -1.55789554e-01 -3.49682629e-01\n",
            "   1.99086323e-01 -6.06739283e-01]\n",
            " [-2.19530001e-01 -2.34329179e-02  2.88281560e-01  1.02690503e-01\n",
            "   2.08089024e-01  3.09101492e-01 -5.80838174e-02 -2.44477481e-01\n",
            "   2.40424976e-01  1.81510031e-01]\n",
            " [-1.91080526e-01 -4.46508685e-03 -1.67495534e-01  4.97532152e-02\n",
            "   2.30465055e-01  2.41346210e-01  1.19583003e-01  1.50393233e-01\n",
            "  -5.63495830e-02 -1.32810414e-01]\n",
            " [ 1.95528075e-01  3.01487803e-01 -3.55655074e-01  7.93429241e-02\n",
            "  -2.49136426e-02  2.43237063e-01 -2.31393442e-01  1.45032883e-01\n",
            "   8.74438658e-02 -1.26143068e-01]\n",
            " [-1.71724632e-01 -1.99879661e-01 -1.57295123e-01 -6.71152696e-02\n",
            "  -4.68938828e-01  2.32064381e-01  6.25675559e-01  6.67451739e-01\n",
            "  -2.58211076e-01  1.29921108e-01]\n",
            " [ 5.00750840e-01 -2.19421133e-01  7.51635969e-01 -6.16721153e-01\n",
            "  -5.44983506e-01  7.26937577e-02 -5.51642239e-01  3.01306516e-01\n",
            "   6.71971738e-02  1.25307515e-01]\n",
            " [-1.04705594e-01 -2.21841484e-01  2.18681619e-01  2.38504648e-01\n",
            "  -1.12355046e-01 -2.61151373e-01  6.12656660e-02 -6.37196064e-01\n",
            "   6.21876836e-01  3.49016488e-01]\n",
            " [-1.11389188e-02  3.94113183e-01  9.60258469e-02 -5.26726484e-01\n",
            "   3.28794867e-01  3.25116128e-01 -4.35257137e-01 -1.37903273e-01\n",
            "   2.56794333e-01  1.46053761e-01]\n",
            " [-1.57897860e-01  2.80540884e-01 -2.77915537e-01  3.91882695e-02\n",
            "  -3.05429548e-01  1.56777993e-01 -1.82584554e-01 -1.32028610e-01\n",
            "  -1.84508085e-01  5.00203133e-01]\n",
            " [ 1.42782256e-01 -3.54458690e-01 -3.24706525e-01  8.37967992e-02\n",
            "  -1.36910543e-01 -4.46123302e-01 -7.69442841e-02  5.44437528e-01\n",
            "  -5.00330746e-01  1.82712257e-01]\n",
            " [-5.47257602e-01  3.78614008e-01  1.48622185e-01 -1.12971805e-01\n",
            "  -5.49461246e-01  4.22545761e-01 -4.59903866e-01  3.43961000e-01\n",
            "   5.59572987e-02  1.75941303e-01]\n",
            " [ 3.15032810e-01  9.44059566e-02  5.36262989e-01 -7.72171021e-01\n",
            "   2.73800820e-01 -3.57804209e-01  3.12325805e-01  2.73694932e-01\n",
            "   6.75981700e-01 -7.25056529e-01]\n",
            " [ 1.69557426e-02  2.77296662e-01  4.40218568e-01  1.22475997e-01\n",
            "  -9.65242758e-02 -9.42135230e-02 -1.32170022e-01 -1.47231847e-01\n",
            "   3.69802527e-02 -4.31997299e-01]\n",
            " [ 3.04628283e-01  4.86560911e-01 -1.68039799e-01  3.47788393e-01\n",
            "  -6.57497823e-01  2.44213820e-01 -4.79584634e-01 -3.06156963e-01\n",
            "   3.98795485e-01  4.52703573e-02]\n",
            " [ 2.19535664e-01  2.36906588e-01  1.91278338e-01 -3.79461907e-02\n",
            "  -2.64298189e-02 -1.87326521e-01  1.52108341e-01  1.15933508e-01\n",
            "  -2.29836762e-01  5.71154393e-02]\n",
            " [-3.00644130e-01 -1.24266386e-01 -2.09491372e-01 -1.58078417e-01\n",
            "   1.83714984e-03 -2.17044383e-01 -2.52235442e-01  1.63094699e-01\n",
            "   1.35772541e-01  6.36118278e-02]\n",
            " [ 6.61629066e-02  7.51423836e-01  9.52649582e-03 -2.93726653e-01\n",
            "   6.73972964e-02 -1.11080147e-01  4.21057016e-01 -2.70744354e-01\n",
            "  -4.20343161e-01 -3.31643164e-01]]\n",
            "Output layer biases (10,) :\n",
            " [-0.03071563  0.00431522  0.01188897  0.03530756  0.03544371  0.03148534\n",
            " -0.00288196  0.0187838  -0.03522405 -0.06018079]\n"
          ],
          "name": "stdout"
        }
      ]
    }
  ]
}
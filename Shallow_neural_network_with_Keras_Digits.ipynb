{
  "nbformat": 4,
  "nbformat_minor": 0,
  "metadata": {
    "colab": {
      "name": "Shallow_neural_network_with_Keras_Digits.ipynb",
      "version": "0.3.2",
      "provenance": [],
      "collapsed_sections": [],
      "include_colab_link": true
    },
    "kernelspec": {
      "name": "python3",
      "display_name": "Python 3"
    }
  },
  "cells": [
    {
      "cell_type": "markdown",
      "metadata": {
        "id": "view-in-github",
        "colab_type": "text"
      },
      "source": [
        "<a href=\"https://colab.research.google.com/github/DavorJordacevic/NEURAL-NETWORKS-/blob/master/Shallow_neural_network_with_Keras_Digits.ipynb\" target=\"_parent\"><img src=\"https://colab.research.google.com/assets/colab-badge.svg\" alt=\"Open In Colab\"/></a>"
      ]
    },
    {
      "metadata": {
        "id": "Qvgi-JMWWE7G",
        "colab_type": "text"
      },
      "cell_type": "markdown",
      "source": [
        "# Shallow neural network with Keras"
      ]
    },
    {
      "metadata": {
        "id": "WhkOyrVJEYam",
        "colab_type": "text"
      },
      "cell_type": "markdown",
      "source": [
        "Keras is a high-level neural networks API, written in Python and capable of running on top of TensorFlow, CNTK, or Theano. "
      ]
    },
    {
      "metadata": {
        "id": "hW3bMJKTWA4J",
        "colab_type": "code",
        "outputId": "2127a369-cd68-4611-a933-33935eed017f",
        "colab": {
          "base_uri": "https://localhost:8080/",
          "height": 34
        }
      },
      "cell_type": "code",
      "source": [
        "import numpy as np\n",
        "import matplotlib.pyplot as plt\n",
        "import keras\n",
        "import warnings\n",
        "from mpl_toolkits import mplot3d\n",
        "from matplotlib import cm\n",
        "from keras.models import Sequential\n",
        "from keras.layers import Dense\n",
        "from keras.optimizers import adam\n",
        "from keras.utils import np_utils\n",
        "from sklearn import datasets\n",
        "from sklearn.model_selection import train_test_split\n",
        "from sklearn.model_selection import StratifiedKFold\n",
        "from sklearn.model_selection import cross_val_score\n",
        "warnings.filterwarnings(\"ignore\")"
      ],
      "execution_count": 1,
      "outputs": [
        {
          "output_type": "stream",
          "text": [
            "Using TensorFlow backend.\n"
          ],
          "name": "stderr"
        }
      ]
    },
    {
      "metadata": {
        "id": "hnyYTfqKEknD",
        "colab_type": "text"
      },
      "cell_type": "markdown",
      "source": [
        "# 1. Load the digit dataset"
      ]
    },
    {
      "metadata": {
        "id": "c7hQexApWZGB",
        "colab_type": "code",
        "outputId": "c47c2ccb-5569-412b-8128-6491c52a5fdf",
        "colab": {
          "base_uri": "https://localhost:8080/",
          "height": 34
        }
      },
      "cell_type": "code",
      "source": [
        "digits = datasets.load_digits()\n",
        "X_digits = digits.data\n",
        "y_digits = digits.target\n",
        "\n",
        "digits.keys()"
      ],
      "execution_count": 2,
      "outputs": [
        {
          "output_type": "execute_result",
          "data": {
            "text/plain": [
              "dict_keys(['data', 'target', 'target_names', 'images', 'DESCR'])"
            ]
          },
          "metadata": {
            "tags": []
          },
          "execution_count": 2
        }
      ]
    },
    {
      "metadata": {
        "id": "1SuTLSKrFcK7",
        "colab_type": "text"
      },
      "cell_type": "markdown",
      "source": [
        "### 1.1 Spliting data into train and test sets"
      ]
    },
    {
      "metadata": {
        "id": "xnuuumc3WjsC",
        "colab_type": "code",
        "outputId": "88029238-1aae-41ab-dcbd-9de7f35f5027",
        "colab": {
          "base_uri": "https://localhost:8080/",
          "height": 85
        }
      },
      "cell_type": "code",
      "source": [
        "print(X_digits.shape)\n",
        "print(y_digits.shape)\n",
        "print(type(X_digits))\n",
        "print(type(y_digits))\n",
        "\n",
        "# Spliting data into train and test\n",
        "X_train, X_test, y_train, y_test = train_test_split(X_digits, y_digits, test_size=0.33, random_state=42)"
      ],
      "execution_count": 3,
      "outputs": [
        {
          "output_type": "stream",
          "text": [
            "(1797, 64)\n",
            "(1797,)\n",
            "<class 'numpy.ndarray'>\n",
            "<class 'numpy.ndarray'>\n"
          ],
          "name": "stdout"
        }
      ]
    },
    {
      "metadata": {
        "id": "GWH4dB55FjWh",
        "colab_type": "text"
      },
      "cell_type": "markdown",
      "source": [
        "### 1.2 Checking the shape of the input data"
      ]
    },
    {
      "metadata": {
        "id": "udxYNeo7X3FC",
        "colab_type": "code",
        "outputId": "3b6aa777-35d8-472c-c62d-37207b1aab60",
        "colab": {
          "base_uri": "https://localhost:8080/",
          "height": 85
        }
      },
      "cell_type": "code",
      "source": [
        "print('x_train:\\t{}' .format(X_train.shape))\n",
        "print('y_train:\\t{}' .format(y_train.shape))\n",
        "print('x_test:\\t\\t{}'.format(X_test.shape))\n",
        "print('y_test:\\t\\t{}'.format(y_test.shape))"
      ],
      "execution_count": 4,
      "outputs": [
        {
          "output_type": "stream",
          "text": [
            "x_train:\t(1203, 64)\n",
            "y_train:\t(1203,)\n",
            "x_test:\t\t(594, 64)\n",
            "y_test:\t\t(594,)\n"
          ],
          "name": "stdout"
        }
      ]
    },
    {
      "metadata": {
        "id": "LsyiXQEPFyTR",
        "colab_type": "text"
      },
      "cell_type": "markdown",
      "source": [
        "### 1.3 Plot first 64 digits"
      ]
    },
    {
      "metadata": {
        "id": "yUc3oyTaF_lt",
        "colab_type": "text"
      },
      "cell_type": "markdown",
      "source": [
        "Now we can plot some digits to see how they look.\n",
        "\n",
        "*digits.target* contain real value for each image in *digits.images*"
      ]
    },
    {
      "metadata": {
        "id": "nEVXBPVxWo5P",
        "colab_type": "code",
        "outputId": "b56ff543-03a1-4bd5-ecdf-d59f6915cb6e",
        "colab": {
          "base_uri": "https://localhost:8080/",
          "height": 463
        }
      },
      "cell_type": "code",
      "source": [
        "# set up the figure\n",
        "fig = plt.figure(figsize=(6, 6))\n",
        "fig.subplots_adjust(left=0, right=1, bottom=0, top=1, hspace=0.05, wspace=0.05)\n",
        "\n",
        "# plot the digits: each image is 8x8 pixels\n",
        "for i in range(64):\n",
        "    ax = fig.add_subplot(8, 8, i + 1, xticks=[], yticks=[])\n",
        "    ax.imshow(digits.images[i], cmap=plt.cm.binary, interpolation='nearest')\n",
        "    \n",
        "    # label the image with the target value\n",
        "    ax.text(0, 7, str(digits.target[i]))"
      ],
      "execution_count": 5,
      "outputs": [
        {
          "output_type": "display_data",
          "data": {
            "image/png": "[encoded data removed]",
            "text/plain": [
              "<Figure size 432x432 with 64 Axes>"
            ]
          },
          "metadata": {
            "tags": []
          }
        }
      ]
    },
    {
      "metadata": {
        "id": "8M7sv5aKHO8u",
        "colab_type": "text"
      },
      "cell_type": "markdown",
      "source": [
        "### 1.4 One Hot Encoding"
      ]
    },
    {
      "metadata": {
        "id": "eXSiCvV5HOct",
        "colab_type": "text"
      },
      "cell_type": "markdown",
      "source": [
        "Many machine learning algorithms cannot operate on label data directly. They require all input variables and output variables to be numeric.\n",
        "\n",
        "This means that categorical data must be converted to a numerical form."
      ]
    },
    {
      "metadata": {
        "id": "5fd0jduAcB33",
        "colab_type": "code",
        "colab": {}
      },
      "cell_type": "code",
      "source": [
        "# one hot encode outputs\n",
        "y_train = np_utils.to_categorical(y_train)\n",
        "y_test = np_utils.to_categorical(y_test)\n",
        "num_classes = y_test.shape[1]"
      ],
      "execution_count": 0,
      "outputs": []
    },
    {
      "metadata": {
        "id": "whMqOSODFtZK",
        "colab_type": "text"
      },
      "cell_type": "markdown",
      "source": [
        "# 2. Create the network"
      ]
    },
    {
      "metadata": {
        "id": "02jtZOiiH60k",
        "colab_type": "text"
      },
      "cell_type": "markdown",
      "source": [
        "### 2.1 Hyper-parameters"
      ]
    },
    {
      "metadata": {
        "id": "4V-FW8jVX63r",
        "colab_type": "code",
        "colab": {}
      },
      "cell_type": "code",
      "source": [
        "# Hyper-parameters\n",
        "training_epochs = 100 # Total number of training epochs\n",
        "learning_rate = 0.01 # The learning rate"
      ],
      "execution_count": 0,
      "outputs": []
    },
    {
      "metadata": {
        "id": "BB1jrI_jH-LD",
        "colab_type": "text"
      },
      "cell_type": "markdown",
      "source": [
        "### 2.2 Creating a model"
      ]
    },
    {
      "metadata": {
        "id": "_e6qDza_ICoj",
        "colab_type": "text"
      },
      "cell_type": "markdown",
      "source": [
        "Our model will have 2 layers, with 64(*height x width*) neurons in the input layer and 10 neurons in the output layer.\n",
        "We will use normal initializer that generates tensors with a normal distribution.\n",
        "\n",
        "The optimizer we'll use is **Adam** .It is an optimization algorithm that can be used instead of the classical stochastic gradient descent procedure to update network weights iterative based on training data. Adam is a popular algorithm in the field of deep learning because it achieves good results fast. Default parameters follow those provided in the original paper. \n",
        "\n",
        "To make this work in keras we need to compile the model. An important choice to make is the loss function. We use the **categorical_crossentropy** loss because it measures the probability error in discrete classification tasks in which the classes are mutually exclusive (each entry is in exactly one class)."
      ]
    },
    {
      "metadata": {
        "id": "7gr1pPJgX61j",
        "colab_type": "code",
        "outputId": "a0364a2c-03e3-40e6-8ef0-beff59cf615a",
        "colab": {
          "base_uri": "https://localhost:8080/",
          "height": 204
        }
      },
      "cell_type": "code",
      "source": [
        "# create model\n",
        "def create_model():\n",
        "  model = Sequential()\n",
        "  # Input layer\n",
        "  model.add(Dense(64, input_dim=64, kernel_initializer='normal',\n",
        "            kernel_regularizer= keras.regularizers.l2(0.01),activation='tanh'))\n",
        "  # Output layer\n",
        "  model.add(Dense(10, activation='softmax'))\n",
        " \n",
        "  # Compile model\n",
        "  model.compile(loss='categorical_crossentropy', optimizer=adam(learning_rate), metrics=['accuracy'])\n",
        "  return model\n",
        "model = create_model()\n",
        "model.summary()"
      ],
      "execution_count": 8,
      "outputs": [
        {
          "output_type": "stream",
          "text": [
            "_________________________________________________________________\n",
            "Layer (type)                 Output Shape              Param #   \n",
            "=================================================================\n",
            "dense_1 (Dense)              (None, 64)                4160      \n",
            "_________________________________________________________________\n",
            "dense_2 (Dense)              (None, 10)                650       \n",
            "=================================================================\n",
            "Total params: 4,810\n",
            "Trainable params: 4,810\n",
            "Non-trainable params: 0\n",
            "_________________________________________________________________\n"
          ],
          "name": "stdout"
        }
      ]
    },
    {
      "metadata": {
        "id": "6EvcG3osJTn3",
        "colab_type": "text"
      },
      "cell_type": "markdown",
      "source": [
        "### 2.3 Train the mode"
      ]
    },
    {
      "metadata": {
        "id": "SzCPgWtaJVbn",
        "colab_type": "text"
      },
      "cell_type": "markdown",
      "source": [
        "Let's trains the model for a given number of epochs."
      ]
    },
    {
      "metadata": {
        "id": "xpaHdxMsX6x6",
        "colab_type": "code",
        "colab": {}
      },
      "cell_type": "code",
      "source": [
        "results = model.fit(\n",
        " X_train, y_train,\n",
        " epochs= training_epochs,\n",
        " batch_size = 516,\n",
        " validation_data = (X_test, y_test),\n",
        " verbose = 0\n",
        ")"
      ],
      "execution_count": 0,
      "outputs": []
    },
    {
      "metadata": {
        "id": "A2J9-tnLJYIW",
        "colab_type": "text"
      },
      "cell_type": "markdown",
      "source": [
        "### 2.4 Test the model"
      ]
    },
    {
      "metadata": {
        "id": "3ZKU8VLpJbWk",
        "colab_type": "text"
      },
      "cell_type": "markdown",
      "source": [
        "Model can generate output predictions for the input samples."
      ]
    },
    {
      "metadata": {
        "id": "AYK4prZ2YY5E",
        "colab_type": "code",
        "colab": {}
      },
      "cell_type": "code",
      "source": [
        "prediction_values = model.predict_classes(X_test)"
      ],
      "execution_count": 0,
      "outputs": []
    },
    {
      "metadata": {
        "id": "6InzOUqfJaxN",
        "colab_type": "text"
      },
      "cell_type": "markdown",
      "source": [
        "### 2.5 Mean error value"
      ]
    },
    {
      "metadata": {
        "id": "yr-RAE_MjljU",
        "colab_type": "text"
      },
      "cell_type": "markdown",
      "source": [
        "Test-Accuracy :"
      ]
    },
    {
      "metadata": {
        "id": "uZiHPMfIYpNw",
        "colab_type": "code",
        "outputId": "44caa6a5-c3ed-4879-a6e3-bb3378428ac4",
        "colab": {
          "base_uri": "https://localhost:8080/",
          "height": 34
        }
      },
      "cell_type": "code",
      "source": [
        "print(\"Test-Accuracy:\",\"%.2f%%\" % (np.mean(results.history[\"val_acc\"])*100))"
      ],
      "execution_count": 11,
      "outputs": [
        {
          "output_type": "stream",
          "text": [
            "Test-Accuracy: 96.22%\n"
          ],
          "name": "stdout"
        }
      ]
    },
    {
      "metadata": {
        "id": "Nxsdsse8Jiih",
        "colab_type": "text"
      },
      "cell_type": "markdown",
      "source": [
        "### 2.6 Evaluate the model to see the accuracy"
      ]
    },
    {
      "metadata": {
        "id": "KFMbkie9JkJW",
        "colab_type": "text"
      },
      "cell_type": "markdown",
      "source": [
        "Now we can check the accuracy of our model"
      ]
    },
    {
      "metadata": {
        "id": "n2DTxPRAYpLg",
        "colab_type": "code",
        "outputId": "e0ddeed0-0d92-4ebb-898b-7fae19efb49d",
        "colab": {
          "base_uri": "https://localhost:8080/",
          "height": 119
        }
      },
      "cell_type": "code",
      "source": [
        "print(\"Evaluating on training set...\")\n",
        "(loss, accuracy) = model.evaluate(X_train,y_train)\n",
        "print(\"loss={:.4f}, accuracy: {:.4f}%\".format(loss,accuracy * 100))\n",
        "\n",
        "\n",
        "print(\"Evaluating on testing set...\")\n",
        "(loss, accuracy) = model.evaluate(X_test, y_test)\n",
        "print(\"loss={:.4f}, accuracy: {:.4f}%\".format(loss,accuracy * 100))"
      ],
      "execution_count": 12,
      "outputs": [
        {
          "output_type": "stream",
          "text": [
            "Evaluating on training set...\n",
            "1203/1203 [==============================] - 0s 20us/step\n",
            "loss=0.0353, accuracy: 100.0000%\n",
            "Evaluating on testing set...\n",
            "594/594 [==============================] - 0s 19us/step\n",
            "loss=0.1051, accuracy: 97.4747%\n"
          ],
          "name": "stdout"
        }
      ]
    },
    {
      "metadata": {
        "id": "WvB7Wmz_JnS7",
        "colab_type": "text"
      },
      "cell_type": "markdown",
      "source": [
        "### 2.7 Summarize history for accuracy"
      ]
    },
    {
      "metadata": {
        "id": "Gj0ghedxYpJK",
        "colab_type": "code",
        "outputId": "7f612e53-7a47-4bdc-d73f-2e4af2810f8b",
        "colab": {
          "base_uri": "https://localhost:8080/",
          "height": 393
        }
      },
      "cell_type": "code",
      "source": [
        "# summarize history for accuracy\n",
        "plt.plot(results.history['acc'])\n",
        "plt.plot(results.history['val_acc'])\n",
        "plt.title('model accuracy')\n",
        "plt.ylabel('accuracy')\n",
        "plt.xlabel('epoch')\n",
        "plt.legend(['train', 'test'], loc='down right')"
      ],
      "execution_count": 13,
      "outputs": [
        {
          "output_type": "execute_result",
          "data": {
            "text/plain": [
              "<matplotlib.legend.Legend at 0x7fc661df1278>"
            ]
          },
          "metadata": {
            "tags": []
          },
          "execution_count": 13
        },
        {
          "output_type": "display_data",
          "data": {
            "image/png": "[encoded data removed]",
            "text/plain": [
              "<Figure size 576x396 with 1 Axes>"
            ]
          },
          "metadata": {
            "tags": []
          }
        }
      ]
    },
    {
      "metadata": {
        "id": "-bf-Ig5WJq26",
        "colab_type": "text"
      },
      "cell_type": "markdown",
      "source": [
        "### 2.8 Summarize history for loss"
      ]
    },
    {
      "metadata": {
        "id": "pphKtdvYY0Nz",
        "colab_type": "code",
        "outputId": "aa4521c5-2ca1-46eb-bfd5-e512cc35d951",
        "colab": {
          "base_uri": "https://localhost:8080/",
          "height": 461
        }
      },
      "cell_type": "code",
      "source": [
        "# summarize history for loss\n",
        "plt.plot(results.history['loss'])\n",
        "plt.plot(results.history['val_loss'])\n",
        "plt.title('model loss')\n",
        "plt.ylabel('loss')\n",
        "plt.xlabel('epoch')\n",
        "plt.legend(['train', 'test'], loc='upper right')\n",
        "\n",
        "max_loss = np.max(results.history['loss'])\n",
        "min_loss = np.min(results.history['loss'])\n",
        "print(\"Maximum Loss : {:.4f}\".format(max_loss))\n",
        "print(\"\")\n",
        "print(\"Minimum Loss : {:.4f}\".format(min_loss))\n",
        "print(\"\")\n",
        "print(\"Loss difference : {:.4f}\".format((max_loss - min_loss)))"
      ],
      "execution_count": 14,
      "outputs": [
        {
          "output_type": "stream",
          "text": [
            "Maximum Loss : 2.5555\n",
            "\n",
            "Minimum Loss : 0.0368\n",
            "\n",
            "Loss difference : 2.5187\n"
          ],
          "name": "stdout"
        },
        {
          "output_type": "display_data",
          "data": {
            "image/png": "[encoded data removed]",
            "text/plain": [
              "<Figure size 576x396 with 1 Axes>"
            ]
          },
          "metadata": {
            "tags": []
          }
        }
      ]
    },
    {
      "metadata": {
        "id": "nHfiLBxpHvPE",
        "colab_type": "text"
      },
      "cell_type": "markdown",
      "source": [
        "# 3. Visualization"
      ]
    },
    {
      "metadata": {
        "id": "UExzNG6WJzqG",
        "colab_type": "text"
      },
      "cell_type": "markdown",
      "source": [
        "### 3.3 Display the test set and predictions"
      ]
    },
    {
      "metadata": {
        "id": "G-IZtwjDWBWG",
        "colab_type": "code",
        "colab": {}
      },
      "cell_type": "code",
      "source": [
        "# set up the figure\n",
        "fig = plt.figure(figsize=(15, 7))\n",
        "fig.subplots_adjust(left=0, right=1, bottom=0, top=1, hspace=0.05, wspace=0.05)\n",
        "\n",
        "# plot the digits: each image is 8x8 pixels\n",
        "for i in range(120):\n",
        "    ax = fig.add_subplot(6, 20, i + 1, xticks=[], yticks=[])\n",
        "    ax.imshow(X_test[i,:].reshape((8,8)),cmap=plt.cm.gray_r, interpolation='nearest')\n",
        "    \n",
        "    # label the image with the target value\n",
        "    ax.text(0, 7, str(prediction_values[i]))"
      ],
      "execution_count": 0,
      "outputs": []
    },
    {
      "metadata": {
        "id": "0T-63fnSJyT5",
        "colab_type": "text"
      },
      "cell_type": "markdown",
      "source": [
        "### 3.2 Display the weights and biases of our model"
      ]
    },
    {
      "metadata": {
        "id": "GrdnWl9Jc7n6",
        "colab_type": "code",
        "colab": {}
      },
      "cell_type": "code",
      "source": [
        "# Input layer\n",
        "weights0 = model.layers[0].get_weights()[0]\n",
        "biases0 = model.layers[0].get_weights()[1]\n",
        "print(\"Input layer weights\",weights0.shape,\":\\n\",weights0)\n",
        "print(\"Input layer biases\",biases0.shape,\":\\n\",biases0)\n",
        "\n",
        "\n",
        "# Output layer\n",
        "weights1 = model.layers[1].get_weights()[0]\n",
        "biases1 = model.layers[1].get_weights()[1]\n",
        "print(\"\\nOutput layer weights\",weights1.shape,\":\\n\",weights1)\n",
        "print(\"Output layer biases\",biases1.shape,\":\\n\",biases1)"
      ],
      "execution_count": 0,
      "outputs": []
    }
  ]
}
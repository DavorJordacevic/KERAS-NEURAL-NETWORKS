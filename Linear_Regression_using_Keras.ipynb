{
  "nbformat": 4,
  "nbformat_minor": 0,
  "metadata": {
    "colab": {
      "name": "Linear_Regression_using_Keras.ipynb",
      "version": "0.3.2",
      "provenance": [],
      "collapsed_sections": [],
      "include_colab_link": true
    },
    "kernelspec": {
      "name": "python3",
      "display_name": "Python 3"
    }
  },
  "cells": [
    {
      "cell_type": "markdown",
      "metadata": {
        "id": "view-in-github",
        "colab_type": "text"
      },
      "source": [
        "<a href=\"https://colab.research.google.com/github/DavorJordacevic/KERAS-NEURAL-NETWORKS/blob/master/Linear_Regression_using_Keras.ipynb\" target=\"_parent\"><img src=\"https://colab.research.google.com/assets/colab-badge.svg\" alt=\"Open In Colab\"/></a>"
      ]
    },
    {
      "metadata": {
        "id": "OdS5H9Q3MvG_",
        "colab_type": "text"
      },
      "cell_type": "markdown",
      "source": [
        "# Solving a Linear Regression problem with Keras"
      ]
    },
    {
      "metadata": {
        "id": "5t5SW75j_SFp",
        "colab_type": "text"
      },
      "cell_type": "markdown",
      "source": [
        "Keras is a high-level neural networks API, written in Python and capable of running on top of TensorFlow, CNTK, or Theano."
      ]
    },
    {
      "metadata": {
        "id": "xtW2u5yrMISq",
        "colab_type": "code",
        "colab": {
          "base_uri": "https://localhost:8080/",
          "height": 35
        },
        "outputId": "fb6f5000-d770-492f-e72e-8d7cb29de69f"
      },
      "cell_type": "code",
      "source": [
        "import numpy as np\n",
        "import matplotlib.pyplot as plt\n",
        "import keras\n",
        "from keras.models import Sequential\n",
        "from keras.layers import Dense\n",
        "from keras.optimizers import SGD\n",
        "from sklearn.datasets import make_regression\n",
        "from sklearn.model_selection import train_test_split"
      ],
      "execution_count": 1,
      "outputs": [
        {
          "output_type": "stream",
          "text": [
            "Using TensorFlow backend.\n"
          ],
          "name": "stderr"
        }
      ]
    },
    {
      "metadata": {
        "id": "1nUcpomT_WRC",
        "colab_type": "text"
      },
      "cell_type": "markdown",
      "source": [
        "# 1. Create an artificial dataset"
      ]
    },
    {
      "metadata": {
        "id": "r-4zlCE9_UHc",
        "colab_type": "text"
      },
      "cell_type": "markdown",
      "source": [
        "### 1.1 Fix random seed for reproducibility"
      ]
    },
    {
      "metadata": {
        "id": "dZ8TO1O8o48d",
        "colab_type": "code",
        "colab": {}
      },
      "cell_type": "code",
      "source": [
        "seed = 3\n",
        "np.random.seed(seed)"
      ],
      "execution_count": 0,
      "outputs": []
    },
    {
      "metadata": {
        "id": "Jnw-G9wH_ZLg",
        "colab_type": "text"
      },
      "cell_type": "markdown",
      "source": [
        "### 1.2 We need to generate two sets of data"
      ]
    },
    {
      "metadata": {
        "id": "95rqzE_VoXTU",
        "colab_type": "code",
        "outputId": "2fd282d1-22bf-4834-cb49-fe15ae8869c6",
        "colab": {
          "base_uri": "https://localhost:8080/",
          "height": 90
        }
      },
      "cell_type": "code",
      "source": [
        "X, y, coef = make_regression(n_samples=200, n_features=1,\n",
        "                                      n_informative=1, noise=20,\n",
        "                                      coef=True, random_state=10,)\n",
        "print(X.shape)\n",
        "print(y.shape)\n",
        "print(type(X))\n",
        "print(type(y))\n",
        "\n",
        "# Spliting data into train and test\n",
        "X_train, X_test, y_train, y_test = train_test_split(X, y, test_size=0.33, random_state=42)"
      ],
      "execution_count": 3,
      "outputs": [
        {
          "output_type": "stream",
          "text": [
            "(200, 1)\n",
            "(200,)\n",
            "<class 'numpy.ndarray'>\n",
            "<class 'numpy.ndarray'>\n"
          ],
          "name": "stdout"
        }
      ]
    },
    {
      "metadata": {
        "id": "VQlWIal-_bRV",
        "colab_type": "text"
      },
      "cell_type": "markdown",
      "source": [
        "### 1.3 Data visualization"
      ]
    },
    {
      "metadata": {
        "id": "jmP-pB5_o7XK",
        "colab_type": "code",
        "outputId": "5d0de23e-b4a9-4bca-d7d6-301a4d208c13",
        "colab": {
          "base_uri": "https://localhost:8080/",
          "height": 365
        }
      },
      "cell_type": "code",
      "source": [
        "plt.scatter(X, y, color='gold')"
      ],
      "execution_count": 4,
      "outputs": [
        {
          "output_type": "execute_result",
          "data": {
            "text/plain": [
              "<matplotlib.collections.PathCollection at 0x7f57bbcad048>"
            ]
          },
          "metadata": {
            "tags": []
          },
          "execution_count": 4
        },
        {
          "output_type": "display_data",
          "data": {
            "image/png": "[encoded data removed]",
            "text/plain": [
              "<Figure size 576x396 with 1 Axes>"
            ]
          },
          "metadata": {
            "tags": []
          }
        }
      ]
    },
    {
      "metadata": {
        "id": "H8b89-24_eXe",
        "colab_type": "text"
      },
      "cell_type": "markdown",
      "source": [
        "### 1.4 Checking the shape of the input data"
      ]
    },
    {
      "metadata": {
        "id": "jsoG1UVi_e9H",
        "colab_type": "code",
        "colab": {
          "base_uri": "https://localhost:8080/",
          "height": 90
        },
        "outputId": "942875f1-8793-41ec-900c-c6ae97b9d382"
      },
      "cell_type": "code",
      "source": [
        "print('x_train:\\t{}' .format(X_train.shape))\n",
        "print('y_train:\\t{}' .format(y_train.shape))\n",
        "print('x_test:\\t\\t{}'.format(X_test.shape))\n",
        "print('y_test:\\t\\t{}'.format(y_test.shape))"
      ],
      "execution_count": 5,
      "outputs": [
        {
          "output_type": "stream",
          "text": [
            "x_train:\t(134, 1)\n",
            "y_train:\t(134,)\n",
            "x_test:\t\t(66, 1)\n",
            "y_test:\t\t(66,)\n"
          ],
          "name": "stdout"
        }
      ]
    },
    {
      "metadata": {
        "id": "KYE1dYXm_ic6",
        "colab_type": "text"
      },
      "cell_type": "markdown",
      "source": [
        "# 2. Implementing a Neural Network"
      ]
    },
    {
      "metadata": {
        "id": "-S4HXH7u_omg",
        "colab_type": "text"
      },
      "cell_type": "markdown",
      "source": [
        "### 2.1 Hyperparameters"
      ]
    },
    {
      "metadata": {
        "id": "JEt4tcKt_qaJ",
        "colab_type": "code",
        "colab": {}
      },
      "cell_type": "code",
      "source": [
        "# Hyperparameters\n",
        "training_epochs = 20 #\n",
        "learning_rate = 0.03\n",
        "batch_size = 16"
      ],
      "execution_count": 0,
      "outputs": []
    },
    {
      "metadata": {
        "id": "ukMYEL_-_wD-",
        "colab_type": "text"
      },
      "cell_type": "markdown",
      "source": [
        "### 2.2 Creating a model"
      ]
    },
    {
      "metadata": {
        "id": "jKN1-MEvRUuG",
        "colab_type": "code",
        "colab": {
          "base_uri": "https://localhost:8080/",
          "height": 255
        },
        "outputId": "5f9b5c06-84c6-4fb5-f596-015defdb9f41"
      },
      "cell_type": "code",
      "source": [
        "def baseline_model():\n",
        "  model = Sequential()\n",
        "  model.add(Dense(1, activation = 'linear', input_dim = 1,kernel_initializer='glorot_uniform',))\n",
        "  model.compile(optimizer=SGD(learning_rate), loss = 'mse', metrics = ['mse'])\n",
        "  return model\n",
        "\n",
        "model = baseline_model()\n",
        "model.summary()"
      ],
      "execution_count": 7,
      "outputs": [
        {
          "output_type": "stream",
          "text": [
            "WARNING:tensorflow:From /usr/local/lib/python3.6/dist-packages/tensorflow/python/framework/op_def_library.py:263: colocate_with (from tensorflow.python.framework.ops) is deprecated and will be removed in a future version.\n",
            "Instructions for updating:\n",
            "Colocations handled automatically by placer.\n",
            "_________________________________________________________________\n",
            "Layer (type)                 Output Shape              Param #   \n",
            "=================================================================\n",
            "dense_1 (Dense)              (None, 1)                 2         \n",
            "=================================================================\n",
            "Total params: 2\n",
            "Trainable params: 2\n",
            "Non-trainable params: 0\n",
            "_________________________________________________________________\n"
          ],
          "name": "stdout"
        }
      ]
    },
    {
      "metadata": {
        "id": "HFZKqgpuAVx-",
        "colab_type": "text"
      },
      "cell_type": "markdown",
      "source": [
        "### 2.3 Train the model"
      ]
    },
    {
      "metadata": {
        "id": "GiRA34O6AX72",
        "colab_type": "text"
      },
      "cell_type": "markdown",
      "source": [
        "Let's trains the model for a given number of epochs."
      ]
    },
    {
      "metadata": {
        "id": "bivYGy2AqGLW",
        "colab_type": "code",
        "colab": {
          "base_uri": "https://localhost:8080/",
          "height": 817
        },
        "outputId": "1860e631-b654-4537-cec9-c779f6c6a3b5"
      },
      "cell_type": "code",
      "source": [
        "results =  model.fit(\n",
        "           X_train, y_train,\n",
        "           epochs= training_epochs,\n",
        "           batch_size = batch_size,\n",
        "           validation_data = (X_test, y_test),\n",
        "           verbose = 1\n",
        ")"
      ],
      "execution_count": 8,
      "outputs": [
        {
          "output_type": "stream",
          "text": [
            "WARNING:tensorflow:From /usr/local/lib/python3.6/dist-packages/tensorflow/python/ops/math_ops.py:3066: to_int32 (from tensorflow.python.ops.math_ops) is deprecated and will be removed in a future version.\n",
            "Instructions for updating:\n",
            "Use tf.cast instead.\n",
            "Train on 134 samples, validate on 66 samples\n",
            "Epoch 1/20\n",
            "134/134 [==============================] - 0s 698us/step - loss: 4989.4867 - mean_squared_error: 4989.4867 - val_loss: 2300.6428 - val_mean_squared_error: 2300.6428\n",
            "Epoch 2/20\n",
            "134/134 [==============================] - 0s 118us/step - loss: 2010.4737 - mean_squared_error: 2010.4737 - val_loss: 994.7760 - val_mean_squared_error: 994.7760\n",
            "Epoch 3/20\n",
            "134/134 [==============================] - 0s 110us/step - loss: 944.9854 - mean_squared_error: 944.9854 - val_loss: 540.7735 - val_mean_squared_error: 540.7735\n",
            "Epoch 4/20\n",
            "134/134 [==============================] - 0s 95us/step - loss: 583.1388 - mean_squared_error: 583.1388 - val_loss: 402.8745 - val_mean_squared_error: 402.8745\n",
            "Epoch 5/20\n",
            "134/134 [==============================] - 0s 117us/step - loss: 461.2516 - mean_squared_error: 461.2516 - val_loss: 364.6794 - val_mean_squared_error: 364.6794\n",
            "Epoch 6/20\n",
            "134/134 [==============================] - 0s 99us/step - loss: 429.1618 - mean_squared_error: 429.1618 - val_loss: 354.9804 - val_mean_squared_error: 354.9804\n",
            "Epoch 7/20\n",
            "134/134 [==============================] - 0s 93us/step - loss: 416.5155 - mean_squared_error: 416.5155 - val_loss: 358.5763 - val_mean_squared_error: 358.5763\n",
            "Epoch 8/20\n",
            "134/134 [==============================] - 0s 95us/step - loss: 408.7741 - mean_squared_error: 408.7741 - val_loss: 357.2709 - val_mean_squared_error: 357.2709\n",
            "Epoch 9/20\n",
            "134/134 [==============================] - 0s 106us/step - loss: 408.3396 - mean_squared_error: 408.3396 - val_loss: 355.8695 - val_mean_squared_error: 355.8695\n",
            "Epoch 10/20\n",
            "134/134 [==============================] - 0s 111us/step - loss: 409.7901 - mean_squared_error: 409.7901 - val_loss: 354.6118 - val_mean_squared_error: 354.6118\n",
            "Epoch 11/20\n",
            "134/134 [==============================] - 0s 106us/step - loss: 409.6928 - mean_squared_error: 409.6928 - val_loss: 358.1042 - val_mean_squared_error: 358.1042\n",
            "Epoch 12/20\n",
            "134/134 [==============================] - 0s 96us/step - loss: 406.7336 - mean_squared_error: 406.7336 - val_loss: 358.1605 - val_mean_squared_error: 358.1605\n",
            "Epoch 13/20\n",
            "134/134 [==============================] - 0s 100us/step - loss: 407.5575 - mean_squared_error: 407.5575 - val_loss: 361.9633 - val_mean_squared_error: 361.9633\n",
            "Epoch 14/20\n",
            "134/134 [==============================] - 0s 101us/step - loss: 408.1409 - mean_squared_error: 408.1409 - val_loss: 358.3819 - val_mean_squared_error: 358.3819\n",
            "Epoch 15/20\n",
            "134/134 [==============================] - 0s 97us/step - loss: 408.4881 - mean_squared_error: 408.4881 - val_loss: 359.4136 - val_mean_squared_error: 359.4136\n",
            "Epoch 16/20\n",
            "134/134 [==============================] - 0s 104us/step - loss: 406.8934 - mean_squared_error: 406.8934 - val_loss: 358.7746 - val_mean_squared_error: 358.7746\n",
            "Epoch 17/20\n",
            "134/134 [==============================] - 0s 93us/step - loss: 407.4311 - mean_squared_error: 407.4311 - val_loss: 361.7978 - val_mean_squared_error: 361.7978\n",
            "Epoch 18/20\n",
            "134/134 [==============================] - 0s 99us/step - loss: 407.0503 - mean_squared_error: 407.0503 - val_loss: 363.3901 - val_mean_squared_error: 363.3901\n",
            "Epoch 19/20\n",
            "134/134 [==============================] - 0s 112us/step - loss: 405.6567 - mean_squared_error: 405.6567 - val_loss: 365.0946 - val_mean_squared_error: 365.0946\n",
            "Epoch 20/20\n",
            "134/134 [==============================] - 0s 99us/step - loss: 406.9131 - mean_squared_error: 406.9131 - val_loss: 359.7530 - val_mean_squared_error: 359.7530\n"
          ],
          "name": "stdout"
        }
      ]
    },
    {
      "metadata": {
        "id": "KWE9saFsAafn",
        "colab_type": "text"
      },
      "cell_type": "markdown",
      "source": [
        "### 2.4 Test the model"
      ]
    },
    {
      "metadata": {
        "id": "Lg8Fr1I9Ad1N",
        "colab_type": "text"
      },
      "cell_type": "markdown",
      "source": [
        "The model can generate output predictions for the input samples."
      ]
    },
    {
      "metadata": {
        "id": "xrcummBPqPa5",
        "colab_type": "code",
        "colab": {}
      },
      "cell_type": "code",
      "source": [
        "prediction_values = model.predict(X_test)"
      ],
      "execution_count": 0,
      "outputs": []
    },
    {
      "metadata": {
        "id": "emd-A8bhAdXG",
        "colab_type": "text"
      },
      "cell_type": "markdown",
      "source": [
        "### 2.5 Display the weights and biases of our model"
      ]
    },
    {
      "metadata": {
        "id": "NOu6uyHUxUdc",
        "colab_type": "code",
        "colab": {
          "base_uri": "https://localhost:8080/",
          "height": 90
        },
        "outputId": "85230659-378c-46cb-e436-4129c7d66303"
      },
      "cell_type": "code",
      "source": [
        "weights = model.layers[0].get_weights()[0]\n",
        "biases = model.layers[0].get_weights()[1]\n",
        "print(\"Input layer weights\",weights.shape,\":\\n\",weights)\n",
        "print(\"Input layer biases\",biases.shape,\":\\n\",biases)"
      ],
      "execution_count": 10,
      "outputs": [
        {
          "output_type": "stream",
          "text": [
            "Input layer weights (1, 1) :\n",
            " [[83.097404]]\n",
            "Input layer biases (1,) :\n",
            " [0.97422475]\n"
          ],
          "name": "stdout"
        }
      ]
    },
    {
      "metadata": {
        "id": "ar9J9WO1Ak4R",
        "colab_type": "text"
      },
      "cell_type": "markdown",
      "source": [
        "# 3. Visualization"
      ]
    },
    {
      "metadata": {
        "id": "h-4XFF5bAuT7",
        "colab_type": "text"
      },
      "cell_type": "markdown",
      "source": [
        "### 3.1 Visualization of the model predictions on our training set"
      ]
    },
    {
      "metadata": {
        "id": "zItvLNA8qR5T",
        "colab_type": "code",
        "outputId": "caf2c071-3b46-4fff-d0a9-ab5f7ec7e785",
        "colab": {
          "base_uri": "https://localhost:8080/",
          "height": 365
        }
      },
      "cell_type": "code",
      "source": [
        "plt.scatter(X_train, y_train, color='gold')\n",
        "yy = coef*X_test\n",
        "plt.plot(X_test,yy,'r')"
      ],
      "execution_count": 11,
      "outputs": [
        {
          "output_type": "execute_result",
          "data": {
            "text/plain": [
              "[<matplotlib.lines.Line2D at 0x7f57b4268c18>]"
            ]
          },
          "metadata": {
            "tags": []
          },
          "execution_count": 11
        },
        {
          "output_type": "display_data",
          "data": {
            "image/png": "[encoded data removed]",
            "text/plain": [
              "<Figure size 576x396 with 1 Axes>"
            ]
          },
          "metadata": {
            "tags": []
          }
        }
      ]
    },
    {
      "metadata": {
        "id": "G3YE9IkLAxqQ",
        "colab_type": "text"
      },
      "cell_type": "markdown",
      "source": [
        "### 3.2 Visualization of the model predictions on our test set"
      ]
    },
    {
      "metadata": {
        "id": "MJtvqra_q81u",
        "colab_type": "code",
        "outputId": "e3848ce4-6c02-4f76-f316-bc2a8699e910",
        "colab": {
          "base_uri": "https://localhost:8080/",
          "height": 365
        }
      },
      "cell_type": "code",
      "source": [
        "plt.scatter(X_test, y_test, color='gold')\n",
        "plt.plot(X_test,prediction_values,'r')"
      ],
      "execution_count": 12,
      "outputs": [
        {
          "output_type": "execute_result",
          "data": {
            "text/plain": [
              "[<matplotlib.lines.Line2D at 0x7f57b4268b38>]"
            ]
          },
          "metadata": {
            "tags": []
          },
          "execution_count": 12
        },
        {
          "output_type": "display_data",
          "data": {
            "image/png": "[encoded data removed]",
            "text/plain": [
              "<Figure size 576x396 with 1 Axes>"
            ]
          },
          "metadata": {
            "tags": []
          }
        }
      ]
    }
  ]
}
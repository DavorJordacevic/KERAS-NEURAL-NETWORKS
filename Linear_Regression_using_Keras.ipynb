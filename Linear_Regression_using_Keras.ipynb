{
  "nbformat": 4,
  "nbformat_minor": 0,
  "metadata": {
    "colab": {
      "name": "Linear_Regression_using_Keras.ipynb",
      "version": "0.3.2",
      "provenance": [],
      "collapsed_sections": [],
      "include_colab_link": true
    },
    "kernelspec": {
      "name": "python3",
      "display_name": "Python 3"
    }
  },
  "cells": [
    {
      "cell_type": "markdown",
      "metadata": {
        "id": "view-in-github",
        "colab_type": "text"
      },
      "source": [
        "<a href=\"https://colab.research.google.com/github/DavorJordacevic/KERAS-NEURAL-NETWORKS/blob/master/Linear_Regression_using_Keras.ipynb\" target=\"_parent\"><img src=\"https://colab.research.google.com/assets/colab-badge.svg\" alt=\"Open In Colab\"/></a>"
      ]
    },
    {
      "metadata": {
        "id": "OdS5H9Q3MvG_",
        "colab_type": "text"
      },
      "cell_type": "markdown",
      "source": [
        "# Solving a Linear Regression problem with Keras"
      ]
    },
    {
      "metadata": {
        "id": "5t5SW75j_SFp",
        "colab_type": "text"
      },
      "cell_type": "markdown",
      "source": [
        "Keras is a high-level neural networks API, written in Python and capable of running on top of TensorFlow, CNTK, or Theano."
      ]
    },
    {
      "metadata": {
        "id": "xtW2u5yrMISq",
        "colab_type": "code",
        "outputId": "ce96c304-d770-46a6-bca1-73db1ece497f",
        "colab": {
          "base_uri": "https://localhost:8080/",
          "height": 34
        }
      },
      "cell_type": "code",
      "source": [
        "import numpy as np\n",
        "import matplotlib.pyplot as plt\n",
        "import keras\n",
        "from keras.models import Sequential\n",
        "from keras.layers import Dense\n",
        "from keras.optimizers import SGD\n",
        "from sklearn.datasets import make_regression\n",
        "from sklearn.model_selection import train_test_split"
      ],
      "execution_count": 0,
      "outputs": [
        {
          "output_type": "stream",
          "text": [
            "Using TensorFlow backend.\n"
          ],
          "name": "stderr"
        }
      ]
    },
    {
      "metadata": {
        "id": "1nUcpomT_WRC",
        "colab_type": "text"
      },
      "cell_type": "markdown",
      "source": [
        "# 1. Create an artificial dataset"
      ]
    },
    {
      "metadata": {
        "id": "r-4zlCE9_UHc",
        "colab_type": "text"
      },
      "cell_type": "markdown",
      "source": [
        "### 1.1 Fix random seed for reproducibility"
      ]
    },
    {
      "metadata": {
        "id": "dZ8TO1O8o48d",
        "colab_type": "code",
        "colab": {}
      },
      "cell_type": "code",
      "source": [
        "seed = 3\n",
        "np.random.seed(seed)"
      ],
      "execution_count": 0,
      "outputs": []
    },
    {
      "metadata": {
        "id": "Jnw-G9wH_ZLg",
        "colab_type": "text"
      },
      "cell_type": "markdown",
      "source": [
        "### 1.2 We need to generate two sets of data"
      ]
    },
    {
      "metadata": {
        "id": "95rqzE_VoXTU",
        "colab_type": "code",
        "outputId": "8a4446df-73c4-4b0c-f3d4-2e50fb771c39",
        "colab": {
          "base_uri": "https://localhost:8080/",
          "height": 85
        }
      },
      "cell_type": "code",
      "source": [
        "X, y, coef = make_regression(n_samples=200, n_features=1,\n",
        "                                      n_informative=1, noise=20,\n",
        "                                      coef=True, random_state=10,)\n",
        "print(X.shape)\n",
        "print(y.shape)\n",
        "print(type(X))\n",
        "print(type(y))\n",
        "\n",
        "# Spliting data into train and test\n",
        "X_train, X_test, y_train, y_test = train_test_split(X, y, test_size=0.33, random_state=42)"
      ],
      "execution_count": 0,
      "outputs": [
        {
          "output_type": "stream",
          "text": [
            "(200, 1)\n",
            "(200,)\n",
            "<class 'numpy.ndarray'>\n",
            "<class 'numpy.ndarray'>\n"
          ],
          "name": "stdout"
        }
      ]
    },
    {
      "metadata": {
        "id": "VQlWIal-_bRV",
        "colab_type": "text"
      },
      "cell_type": "markdown",
      "source": [
        "### 1.3 Data visualization"
      ]
    },
    {
      "metadata": {
        "id": "jmP-pB5_o7XK",
        "colab_type": "code",
        "outputId": "c840e1f0-0b32-4c68-ff8e-418a4ed61f12",
        "colab": {
          "base_uri": "https://localhost:8080/",
          "height": 364
        }
      },
      "cell_type": "code",
      "source": [
        "plt.scatter(X, y, color='gold')"
      ],
      "execution_count": 0,
      "outputs": [
        {
          "output_type": "execute_result",
          "data": {
            "text/plain": [
              "<matplotlib.collections.PathCollection at 0x7fbcd096ff60>"
            ]
          },
          "metadata": {
            "tags": []
          },
          "execution_count": 4
        },
        {
          "output_type": "display_data",
          "data": {
            "image/png": "[encoded data removed]",
            "text/plain": [
              "<Figure size 576x396 with 1 Axes>"
            ]
          },
          "metadata": {
            "tags": []
          }
        }
      ]
    },
    {
      "metadata": {
        "id": "H8b89-24_eXe",
        "colab_type": "text"
      },
      "cell_type": "markdown",
      "source": [
        "### 1.4 Checking the shape of the input data"
      ]
    },
    {
      "metadata": {
        "id": "jsoG1UVi_e9H",
        "colab_type": "code",
        "outputId": "be130356-d7f4-4fb3-db74-a5738d283deb",
        "colab": {
          "base_uri": "https://localhost:8080/",
          "height": 85
        }
      },
      "cell_type": "code",
      "source": [
        "print('x_train:\\t{}' .format(X_train.shape))\n",
        "print('y_train:\\t{}' .format(y_train.shape))\n",
        "print('x_test:\\t\\t{}'.format(X_test.shape))\n",
        "print('y_test:\\t\\t{}'.format(y_test.shape))"
      ],
      "execution_count": 0,
      "outputs": [
        {
          "output_type": "stream",
          "text": [
            "x_train:\t(134, 1)\n",
            "y_train:\t(134,)\n",
            "x_test:\t\t(66, 1)\n",
            "y_test:\t\t(66,)\n"
          ],
          "name": "stdout"
        }
      ]
    },
    {
      "metadata": {
        "id": "KYE1dYXm_ic6",
        "colab_type": "text"
      },
      "cell_type": "markdown",
      "source": [
        "# 2. Implementing a Neural Network"
      ]
    },
    {
      "metadata": {
        "id": "-S4HXH7u_omg",
        "colab_type": "text"
      },
      "cell_type": "markdown",
      "source": [
        "### 2.1 Hyperparameters"
      ]
    },
    {
      "metadata": {
        "id": "JEt4tcKt_qaJ",
        "colab_type": "code",
        "colab": {}
      },
      "cell_type": "code",
      "source": [
        "# Hyperparameters\n",
        "training_epochs = 20 #\n",
        "learning_rate = 0.1\n",
        "batch_size = 16"
      ],
      "execution_count": 0,
      "outputs": []
    },
    {
      "metadata": {
        "id": "ukMYEL_-_wD-",
        "colab_type": "text"
      },
      "cell_type": "markdown",
      "source": [
        "### 2.2 Creating a model"
      ]
    },
    {
      "metadata": {
        "id": "jKN1-MEvRUuG",
        "colab_type": "code",
        "outputId": "996bad0f-3760-4c11-b342-e43151b9b451",
        "colab": {
          "base_uri": "https://localhost:8080/",
          "height": 221
        }
      },
      "cell_type": "code",
      "source": [
        "def baseline_model():\n",
        "  model = Sequential()\n",
        "  model.add(Dense(1, activation = 'linear', input_dim = 1,kernel_initializer='random_normal',))\n",
        "  model.compile(optimizer=SGD(learning_rate), loss = 'mse', metrics = ['mse'])\n",
        "  return model\n",
        "\n",
        "model = baseline_model()\n",
        "model.summary()"
      ],
      "execution_count": 0,
      "outputs": [
        {
          "output_type": "stream",
          "text": [
            "WARNING:tensorflow:From /usr/local/lib/python3.6/dist-packages/tensorflow/python/framework/op_def_library.py:263: colocate_with (from tensorflow.python.framework.ops) is deprecated and will be removed in a future version.\n",
            "Instructions for updating:\n",
            "Colocations handled automatically by placer.\n",
            "_________________________________________________________________\n",
            "Layer (type)                 Output Shape              Param #   \n",
            "=================================================================\n",
            "dense_1 (Dense)              (None, 1)                 2         \n",
            "=================================================================\n",
            "Total params: 2\n",
            "Trainable params: 2\n",
            "Non-trainable params: 0\n",
            "_________________________________________________________________\n"
          ],
          "name": "stdout"
        }
      ]
    },
    {
      "metadata": {
        "id": "HFZKqgpuAVx-",
        "colab_type": "text"
      },
      "cell_type": "markdown",
      "source": [
        "### 2.3 Train the model"
      ]
    },
    {
      "metadata": {
        "id": "GiRA34O6AX72",
        "colab_type": "text"
      },
      "cell_type": "markdown",
      "source": [
        "Let's trains the model for a given number of epochs."
      ]
    },
    {
      "metadata": {
        "id": "bivYGy2AqGLW",
        "colab_type": "code",
        "outputId": "5fa505ab-cb34-4183-f8dd-438f63e6827e",
        "colab": {
          "base_uri": "https://localhost:8080/",
          "height": 765
        }
      },
      "cell_type": "code",
      "source": [
        "results =  model.fit(\n",
        "           X_train, y_train,\n",
        "           epochs= training_epochs,\n",
        "           batch_size = batch_size,\n",
        "           validation_data = (X_test, y_test),\n",
        "           verbose = 1\n",
        ")"
      ],
      "execution_count": 0,
      "outputs": [
        {
          "output_type": "stream",
          "text": [
            "WARNING:tensorflow:From /usr/local/lib/python3.6/dist-packages/tensorflow/python/ops/math_ops.py:3066: to_int32 (from tensorflow.python.ops.math_ops) is deprecated and will be removed in a future version.\n",
            "Instructions for updating:\n",
            "Use tf.cast instead.\n",
            "Train on 134 samples, validate on 66 samples\n",
            "Epoch 1/20\n",
            "134/134 [==============================] - 0s 729us/step - loss: 2740.4876 - mean_squared_error: 2740.4876 - val_loss: 487.4056 - val_mean_squared_error: 487.4056\n",
            "Epoch 2/20\n",
            "134/134 [==============================] - 0s 143us/step - loss: 484.9576 - mean_squared_error: 484.9576 - val_loss: 374.9889 - val_mean_squared_error: 374.9889\n",
            "Epoch 3/20\n",
            "134/134 [==============================] - 0s 108us/step - loss: 412.8912 - mean_squared_error: 412.8912 - val_loss: 356.5210 - val_mean_squared_error: 356.5210\n",
            "Epoch 4/20\n",
            "134/134 [==============================] - 0s 111us/step - loss: 413.6401 - mean_squared_error: 413.6401 - val_loss: 358.1608 - val_mean_squared_error: 358.1608\n",
            "Epoch 5/20\n",
            "134/134 [==============================] - 0s 92us/step - loss: 413.5431 - mean_squared_error: 413.5431 - val_loss: 347.2844 - val_mean_squared_error: 347.2844\n",
            "Epoch 6/20\n",
            "134/134 [==============================] - 0s 100us/step - loss: 424.5852 - mean_squared_error: 424.5852 - val_loss: 348.8422 - val_mean_squared_error: 348.8422\n",
            "Epoch 7/20\n",
            "134/134 [==============================] - 0s 109us/step - loss: 418.3824 - mean_squared_error: 418.3824 - val_loss: 372.1827 - val_mean_squared_error: 372.1827\n",
            "Epoch 8/20\n",
            "134/134 [==============================] - 0s 116us/step - loss: 409.3848 - mean_squared_error: 409.3848 - val_loss: 359.3189 - val_mean_squared_error: 359.3189\n",
            "Epoch 9/20\n",
            "134/134 [==============================] - 0s 105us/step - loss: 413.2644 - mean_squared_error: 413.2644 - val_loss: 349.3673 - val_mean_squared_error: 349.3673\n",
            "Epoch 10/20\n",
            "134/134 [==============================] - 0s 95us/step - loss: 420.1366 - mean_squared_error: 420.1366 - val_loss: 344.2703 - val_mean_squared_error: 344.2703\n",
            "Epoch 11/20\n",
            "134/134 [==============================] - 0s 95us/step - loss: 421.8237 - mean_squared_error: 421.8237 - val_loss: 367.0581 - val_mean_squared_error: 367.0581\n",
            "Epoch 12/20\n",
            "134/134 [==============================] - 0s 105us/step - loss: 413.6119 - mean_squared_error: 413.6119 - val_loss: 358.6213 - val_mean_squared_error: 358.6213\n",
            "Epoch 13/20\n",
            "134/134 [==============================] - 0s 101us/step - loss: 414.3508 - mean_squared_error: 414.3508 - val_loss: 367.5886 - val_mean_squared_error: 367.5886\n",
            "Epoch 14/20\n",
            "134/134 [==============================] - 0s 117us/step - loss: 415.6701 - mean_squared_error: 415.6701 - val_loss: 351.4797 - val_mean_squared_error: 351.4797\n",
            "Epoch 15/20\n",
            "134/134 [==============================] - 0s 102us/step - loss: 416.1292 - mean_squared_error: 416.1292 - val_loss: 361.1632 - val_mean_squared_error: 361.1632\n",
            "Epoch 16/20\n",
            "134/134 [==============================] - 0s 105us/step - loss: 413.2334 - mean_squared_error: 413.2334 - val_loss: 354.5950 - val_mean_squared_error: 354.5950\n",
            "Epoch 17/20\n",
            "134/134 [==============================] - 0s 110us/step - loss: 413.7828 - mean_squared_error: 413.7828 - val_loss: 373.6096 - val_mean_squared_error: 373.6096\n",
            "Epoch 18/20\n",
            "134/134 [==============================] - 0s 116us/step - loss: 414.2227 - mean_squared_error: 414.2227 - val_loss: 371.1900 - val_mean_squared_error: 371.1900\n",
            "Epoch 19/20\n",
            "134/134 [==============================] - 0s 115us/step - loss: 408.6065 - mean_squared_error: 408.6065 - val_loss: 374.4579 - val_mean_squared_error: 374.4579\n",
            "Epoch 20/20\n",
            "134/134 [==============================] - 0s 114us/step - loss: 413.5177 - mean_squared_error: 413.5177 - val_loss: 353.1838 - val_mean_squared_error: 353.1838\n"
          ],
          "name": "stdout"
        }
      ]
    },
    {
      "metadata": {
        "id": "KWE9saFsAafn",
        "colab_type": "text"
      },
      "cell_type": "markdown",
      "source": [
        "### 2.4 Test the model"
      ]
    },
    {
      "metadata": {
        "id": "Lg8Fr1I9Ad1N",
        "colab_type": "text"
      },
      "cell_type": "markdown",
      "source": [
        "The model can generate output predictions for the input samples."
      ]
    },
    {
      "metadata": {
        "id": "xrcummBPqPa5",
        "colab_type": "code",
        "colab": {}
      },
      "cell_type": "code",
      "source": [
        "prediction_values = model.predict(X_test)"
      ],
      "execution_count": 0,
      "outputs": []
    },
    {
      "metadata": {
        "id": "emd-A8bhAdXG",
        "colab_type": "text"
      },
      "cell_type": "markdown",
      "source": [
        "### 2.5 Display the weights and biases of our model"
      ]
    },
    {
      "metadata": {
        "id": "NOu6uyHUxUdc",
        "colab_type": "code",
        "outputId": "b0c5ee73-4cae-4d46-b5b5-ece5f193e7f0",
        "colab": {
          "base_uri": "https://localhost:8080/",
          "height": 85
        }
      },
      "cell_type": "code",
      "source": [
        "weights = model.layers[0].get_weights()[0]\n",
        "biases = model.layers[0].get_weights()[1]\n",
        "print(\"Input layer weights\",weights.shape,\":\\n\",weights)\n",
        "print(\"Input layer biases\",biases.shape,\":\\n\",biases)"
      ],
      "execution_count": 0,
      "outputs": [
        {
          "output_type": "stream",
          "text": [
            "Input layer weights (1, 1) :\n",
            " [[83.1487]]\n",
            "Input layer biases (1,) :\n",
            " [1.6651524]\n"
          ],
          "name": "stdout"
        }
      ]
    },
    {
      "metadata": {
        "id": "ar9J9WO1Ak4R",
        "colab_type": "text"
      },
      "cell_type": "markdown",
      "source": [
        "# 3. Visualization"
      ]
    },
    {
      "metadata": {
        "id": "h-4XFF5bAuT7",
        "colab_type": "text"
      },
      "cell_type": "markdown",
      "source": [
        "### 3.1 Visualization of the model predictions on our training set"
      ]
    },
    {
      "metadata": {
        "id": "zItvLNA8qR5T",
        "colab_type": "code",
        "outputId": "29163fe1-fec2-40ee-b227-3fc2d63187bb",
        "colab": {
          "base_uri": "https://localhost:8080/",
          "height": 364
        }
      },
      "cell_type": "code",
      "source": [
        "plt.scatter(X_train, y_train, color='gold')\n",
        "yy = coef*X_test\n",
        "plt.plot(X_test,yy,'r')"
      ],
      "execution_count": 0,
      "outputs": [
        {
          "output_type": "execute_result",
          "data": {
            "text/plain": [
              "[<matplotlib.lines.Line2D at 0x7fbcc8eb8c18>]"
            ]
          },
          "metadata": {
            "tags": []
          },
          "execution_count": 11
        },
        {
          "output_type": "display_data",
          "data": {
            "image/png": "[encoded data removed]",
            "text/plain": [
              "<Figure size 576x396 with 1 Axes>"
            ]
          },
          "metadata": {
            "tags": []
          }
        }
      ]
    },
    {
      "metadata": {
        "id": "G3YE9IkLAxqQ",
        "colab_type": "text"
      },
      "cell_type": "markdown",
      "source": [
        "### 3.2 Visualization of the model predictions on our test set"
      ]
    },
    {
      "metadata": {
        "id": "MJtvqra_q81u",
        "colab_type": "code",
        "outputId": "39047ed0-dc30-49e3-c92f-0f866048c056",
        "colab": {
          "base_uri": "https://localhost:8080/",
          "height": 364
        }
      },
      "cell_type": "code",
      "source": [
        "plt.scatter(X_test, y_test, color='gold')\n",
        "plt.plot(X_test,prediction_values,'r')"
      ],
      "execution_count": 0,
      "outputs": [
        {
          "output_type": "execute_result",
          "data": {
            "text/plain": [
              "[<matplotlib.lines.Line2D at 0x7fbcc8e98d68>]"
            ]
          },
          "metadata": {
            "tags": []
          },
          "execution_count": 12
        },
        {
          "output_type": "display_data",
          "data": {
            "image/png": "[encoded data removed]",
            "text/plain": [
              "<Figure size 576x396 with 1 Axes>"
            ]
          },
          "metadata": {
            "tags": []
          }
        }
      ]
    },
    {
      "metadata": {
        "id": "WUSOk7xGkQty",
        "colab_type": "text"
      },
      "cell_type": "markdown",
      "source": [
        "---\n",
        "\n",
        "\n",
        "\n",
        "---\n",
        "\n",
        "For more informations, visit http://datahacker.rs/ .\n",
        "\n",
        "For more examples, visit https://github.com/DavorJordacevic.\n",
        "\n",
        "\n",
        "---\n",
        "\n",
        "\n",
        "\n",
        "---"
      ]
    }
  ]
}
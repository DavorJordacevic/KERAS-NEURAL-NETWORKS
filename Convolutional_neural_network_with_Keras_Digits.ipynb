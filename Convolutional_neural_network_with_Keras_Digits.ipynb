{
  "nbformat": 4,
  "nbformat_minor": 0,
  "metadata": {
    "colab": {
      "name": "Convolutional_neural_network_with_Keras_Digits.ipynb",
      "version": "0.3.2",
      "provenance": [],
      "collapsed_sections": [],
      "include_colab_link": true
    },
    "kernelspec": {
      "name": "python3",
      "display_name": "Python 3"
    }
  },
  "cells": [
    {
      "cell_type": "markdown",
      "metadata": {
        "id": "view-in-github",
        "colab_type": "text"
      },
      "source": [
        "<a href=\"https://colab.research.google.com/github/DavorJordacevic/KERAS-NEURAL-NETWORKS/blob/master/Convolutional_neural_network_with_Keras_Digits.ipynb\" target=\"_parent\"><img src=\"https://colab.research.google.com/assets/colab-badge.svg\" alt=\"Open In Colab\"/></a>"
      ]
    },
    {
      "metadata": {
        "id": "SabuoqMetp4T",
        "colab_type": "text"
      },
      "cell_type": "markdown",
      "source": [
        "# Solving a digits classification problem- Convolutional neural network with Keras"
      ]
    },
    {
      "metadata": {
        "id": "ThAKaLTXtuvH",
        "colab_type": "text"
      },
      "cell_type": "markdown",
      "source": [
        "Author: Davor Jordačević"
      ]
    },
    {
      "metadata": {
        "id": "BJ0oNZ5otuse",
        "colab_type": "text"
      },
      "cell_type": "markdown",
      "source": [
        "Keras is a high-level neural networks API, written in Python and capable of running on top of TensorFlow, CNTK, or Theano."
      ]
    },
    {
      "metadata": {
        "id": "RXWLeo70dX5q",
        "colab_type": "code",
        "outputId": "6ec9db7f-14eb-4f9b-a034-7b74a646951f",
        "colab": {
          "base_uri": "https://localhost:8080/",
          "height": 34
        }
      },
      "cell_type": "code",
      "source": [
        "import numpy as np\n",
        "import matplotlib.pyplot as plt\n",
        "import keras\n",
        "from keras import backend as K\n",
        "import warnings\n",
        "from mpl_toolkits import mplot3d\n",
        "from matplotlib import cm\n",
        "from keras.models import Sequential\n",
        "from keras.layers import Dense\n",
        "from keras.layers import Dense, Dropout,Flatten\n",
        "from keras.layers.convolutional import Conv2D, MaxPooling2D\n",
        "from keras.optimizers import adam\n",
        "from keras.utils import np_utils\n",
        "from sklearn import datasets\n",
        "from sklearn.model_selection import train_test_split\n",
        "from sklearn.model_selection import StratifiedKFold\n",
        "from sklearn.model_selection import cross_val_score\n",
        "warnings.filterwarnings(\"ignore\")\n",
        "K.set_image_data_format('channels_last')\n",
        "np.random.seed(0)"
      ],
      "execution_count": 1,
      "outputs": [
        {
          "output_type": "stream",
          "text": [
            "Using TensorFlow backend.\n"
          ],
          "name": "stderr"
        }
      ]
    },
    {
      "metadata": {
        "id": "MId35gU11LNR",
        "colab_type": "text"
      },
      "cell_type": "markdown",
      "source": [
        "# 1. Load the digit dataset"
      ]
    },
    {
      "metadata": {
        "id": "FXXlquiedkeI",
        "colab_type": "code",
        "outputId": "53bfbc37-f24f-4224-d0d7-e8c83258b06b",
        "colab": {
          "base_uri": "https://localhost:8080/",
          "height": 34
        }
      },
      "cell_type": "code",
      "source": [
        "digits = datasets.load_digits()\n",
        "X_digits = digits.data\n",
        "y_digits = digits.target\n",
        "\n",
        "digits.keys()"
      ],
      "execution_count": 2,
      "outputs": [
        {
          "output_type": "execute_result",
          "data": {
            "text/plain": [
              "dict_keys(['data', 'target', 'target_names', 'images', 'DESCR'])"
            ]
          },
          "metadata": {
            "tags": []
          },
          "execution_count": 2
        }
      ]
    },
    {
      "metadata": {
        "id": "tjaehvHH1P4I",
        "colab_type": "text"
      },
      "cell_type": "markdown",
      "source": [
        "### 1.1 Spliting data into train and test sets"
      ]
    },
    {
      "metadata": {
        "id": "WLEoHSycdl9m",
        "colab_type": "code",
        "outputId": "cbefa670-64c1-4f18-c48b-d62154336836",
        "colab": {
          "base_uri": "https://localhost:8080/",
          "height": 85
        }
      },
      "cell_type": "code",
      "source": [
        "print(X_digits.shape)\n",
        "print(y_digits.shape)\n",
        "print(type(X_digits))\n",
        "print(type(y_digits))\n",
        "\n",
        "# Spliting data into train and test\n",
        "X_train, X_test, y_train, y_test = train_test_split(X_digits, y_digits, test_size=0.33, random_state=42)\n",
        "X_train = X_train.reshape(X_train.shape[0], 8, 8 , 1).astype('float32')\n",
        "X_test = X_test.reshape(X_test.shape[0], 8, 8 , 1).astype('float32')"
      ],
      "execution_count": 3,
      "outputs": [
        {
          "output_type": "stream",
          "text": [
            "(1797, 64)\n",
            "(1797,)\n",
            "<class 'numpy.ndarray'>\n",
            "<class 'numpy.ndarray'>\n"
          ],
          "name": "stdout"
        }
      ]
    },
    {
      "metadata": {
        "id": "gzetdDBj1Tyx",
        "colab_type": "text"
      },
      "cell_type": "markdown",
      "source": [
        "### 1.2 Checking the shape of the input data"
      ]
    },
    {
      "metadata": {
        "id": "VMsZw2Z1d6tD",
        "colab_type": "code",
        "outputId": "cb5c9d43-453f-495a-e2f4-80fdd61f8c3a",
        "colab": {
          "base_uri": "https://localhost:8080/",
          "height": 85
        }
      },
      "cell_type": "code",
      "source": [
        "print('x_train:\\t{}' .format(X_train.shape))\n",
        "print('y_train:\\t{}' .format(y_train.shape))\n",
        "print('x_test:\\t\\t{}'.format(X_test.shape))\n",
        "print('y_test:\\t\\t{}'.format(y_test.shape))"
      ],
      "execution_count": 4,
      "outputs": [
        {
          "output_type": "stream",
          "text": [
            "x_train:\t(1203, 8, 8, 1)\n",
            "y_train:\t(1203,)\n",
            "x_test:\t\t(594, 8, 8, 1)\n",
            "y_test:\t\t(594,)\n"
          ],
          "name": "stdout"
        }
      ]
    },
    {
      "metadata": {
        "id": "CutXQw0d1YwO",
        "colab_type": "text"
      },
      "cell_type": "markdown",
      "source": [
        "### 1.3 Plot first 64 digits"
      ]
    },
    {
      "metadata": {
        "id": "L9guv_8Q1bhW",
        "colab_type": "text"
      },
      "cell_type": "markdown",
      "source": [
        "Now we can plot some digits to see how they look.\n",
        "\n",
        "digits.target contain real value for each image in digits.images"
      ]
    },
    {
      "metadata": {
        "id": "YpUgQvhxd-D3",
        "colab_type": "code",
        "outputId": "1d71fe44-c9fb-4b4b-d9c1-094bfc3ff70b",
        "colab": {
          "base_uri": "https://localhost:8080/",
          "height": 463
        }
      },
      "cell_type": "code",
      "source": [
        "# set up the figure\n",
        "fig = plt.figure(figsize=(6, 6))\n",
        "fig.subplots_adjust(left=0, right=1, bottom=0, top=1, hspace=0.05, wspace=0.05)\n",
        "\n",
        "# plot the digits: each image is 8x8 pixels\n",
        "for i in range(64):\n",
        "    ax = fig.add_subplot(8, 8, i + 1, xticks=[], yticks=[])\n",
        "    ax.imshow(digits.images[i], cmap=plt.cm.binary, interpolation='nearest')\n",
        "    \n",
        "    # label the image with the target value\n",
        "    ax.text(0, 7, str(digits.target[i]))"
      ],
      "execution_count": 5,
      "outputs": [
        {
          "output_type": "display_data",
          "data": {
            "image/png": "[encoded data removed]",
            "text/plain": [
              "<Figure size 432x432 with 64 Axes>"
            ]
          },
          "metadata": {
            "tags": []
          }
        }
      ]
    },
    {
      "metadata": {
        "id": "8S7JrCIZ1elC",
        "colab_type": "text"
      },
      "cell_type": "markdown",
      "source": [
        "### 1.4 One Hot Encoding"
      ]
    },
    {
      "metadata": {
        "id": "gpAZwGmi1fGW",
        "colab_type": "text"
      },
      "cell_type": "markdown",
      "source": [
        "Many machine learning algorithms cannot operate on label data directly. They require all input variables and output variables to be numeric.\n",
        "\n",
        "This means that categorical data must be converted to a numerical form."
      ]
    },
    {
      "metadata": {
        "id": "FG4VkJG7eBf3",
        "colab_type": "code",
        "colab": {}
      },
      "cell_type": "code",
      "source": [
        "# one hot encode outputs\n",
        "y_train = np_utils.to_categorical(y_train)\n",
        "y_test = np_utils.to_categorical(y_test)\n",
        "num_classes = y_test.shape[1]"
      ],
      "execution_count": 0,
      "outputs": []
    },
    {
      "metadata": {
        "id": "5G_La5vd1i18",
        "colab_type": "text"
      },
      "cell_type": "markdown",
      "source": [
        "# 2. Implementing a Neural Network"
      ]
    },
    {
      "metadata": {
        "id": "QXoJba6t1jeP",
        "colab_type": "text"
      },
      "cell_type": "markdown",
      "source": [
        "### 2.1 Hyperparameters"
      ]
    },
    {
      "metadata": {
        "id": "vZxprPAeeDwE",
        "colab_type": "code",
        "colab": {}
      },
      "cell_type": "code",
      "source": [
        "# Hyperparameters\n",
        "training_epochs = 200 # Total number of training epochs\n",
        "learning_rate = 0.03 # The learning rate"
      ],
      "execution_count": 0,
      "outputs": []
    },
    {
      "metadata": {
        "id": "_p_pEW0e1ogX",
        "colab_type": "text"
      },
      "cell_type": "markdown",
      "source": [
        "### 2.2 Creating a model"
      ]
    },
    {
      "metadata": {
        "id": "oZyh1DWX1xQw",
        "colab_type": "text"
      },
      "cell_type": "markdown",
      "source": [
        "The optimizer we'll use is **Adam** .It is an optimization algorithm that can be used instead of the classical stochastic gradient descent procedure to update network weights iterative based on training data. Adam is a popular algorithm in the field of deep learning because it achieves good results fast. Default parameters follow those provided in the original paper. \n",
        "\n",
        "To make this work in keras we need to compile a model. An important choice to make is the loss function. We use the **categorical_crossentropy** loss because it measures the probability error in discrete classification tasks in which the classes are mutually exclusive (each entry is in exactly one class)."
      ]
    },
    {
      "metadata": {
        "id": "aSxpW5LTeFcO",
        "colab_type": "code",
        "outputId": "5737142d-d857-4c7c-d658-67fb8bc3bbf6",
        "colab": {
          "base_uri": "https://localhost:8080/",
          "height": 408
        }
      },
      "cell_type": "code",
      "source": [
        "# create a model\n",
        "def create_model():\n",
        "  model = Sequential()\n",
        "  model.add(Conv2D(64,input_shape=(8,8,1),padding=\"same\", kernel_size=(3, 3),activation='relu'))\n",
        "  model.add(Dropout(0.2))\n",
        "  model.add(MaxPooling2D(pool_size=(2, 2)))\n",
        "  model.add(Dropout(0.2))\n",
        "  model.add(Flatten())\n",
        "  model.add(Dense(64, activation='relu'))\n",
        "  model.add(Dropout(0.2))\n",
        "  model.add(Dense(10, activation='softmax'))\n",
        " \n",
        "  # Compile a model\n",
        "  model.compile(loss='categorical_crossentropy', optimizer=adam(learning_rate), metrics=['accuracy'])\n",
        "  return model\n",
        "model = create_model()\n",
        "model.summary()"
      ],
      "execution_count": 8,
      "outputs": [
        {
          "output_type": "stream",
          "text": [
            "_________________________________________________________________\n",
            "Layer (type)                 Output Shape              Param #   \n",
            "=================================================================\n",
            "conv2d_1 (Conv2D)            (None, 8, 8, 64)          640       \n",
            "_________________________________________________________________\n",
            "dropout_1 (Dropout)          (None, 8, 8, 64)          0         \n",
            "_________________________________________________________________\n",
            "max_pooling2d_1 (MaxPooling2 (None, 4, 4, 64)          0         \n",
            "_________________________________________________________________\n",
            "dropout_2 (Dropout)          (None, 4, 4, 64)          0         \n",
            "_________________________________________________________________\n",
            "flatten_1 (Flatten)          (None, 1024)              0         \n",
            "_________________________________________________________________\n",
            "dense_1 (Dense)              (None, 64)                65600     \n",
            "_________________________________________________________________\n",
            "dropout_3 (Dropout)          (None, 64)                0         \n",
            "_________________________________________________________________\n",
            "dense_2 (Dense)              (None, 10)                650       \n",
            "=================================================================\n",
            "Total params: 66,890\n",
            "Trainable params: 66,890\n",
            "Non-trainable params: 0\n",
            "_________________________________________________________________\n"
          ],
          "name": "stdout"
        }
      ]
    },
    {
      "metadata": {
        "id": "tZ0GaBCV15IG",
        "colab_type": "text"
      },
      "cell_type": "markdown",
      "source": [
        "### 2.3 Train the model"
      ]
    },
    {
      "metadata": {
        "id": "R5zVv3Ii1-fr",
        "colab_type": "text"
      },
      "cell_type": "markdown",
      "source": [
        "Let's trains the model for a given number of epochs."
      ]
    },
    {
      "metadata": {
        "id": "nO0xModVeK__",
        "colab_type": "code",
        "colab": {}
      },
      "cell_type": "code",
      "source": [
        "results = model.fit(\n",
        " X_train, y_train,\n",
        " epochs= training_epochs,\n",
        " batch_size = 128,\n",
        " validation_data = (X_test, y_test),\n",
        " verbose = 0\n",
        ")"
      ],
      "execution_count": 0,
      "outputs": []
    },
    {
      "metadata": {
        "id": "6poh0M8h18Kt",
        "colab_type": "text"
      },
      "cell_type": "markdown",
      "source": [
        "### 2.4 Test the model"
      ]
    },
    {
      "metadata": {
        "id": "wpGB6GZ_2ATQ",
        "colab_type": "text"
      },
      "cell_type": "markdown",
      "source": [
        "Model can generate output predictions for the input samples."
      ]
    },
    {
      "metadata": {
        "id": "F1EkzbWoeK99",
        "colab_type": "code",
        "colab": {}
      },
      "cell_type": "code",
      "source": [
        "prediction_values = model.predict_classes(X_test)"
      ],
      "execution_count": 0,
      "outputs": []
    },
    {
      "metadata": {
        "id": "YllXCE1u2CI9",
        "colab_type": "text"
      },
      "cell_type": "markdown",
      "source": [
        "### 2.5 Accuracy"
      ]
    },
    {
      "metadata": {
        "id": "JVENQcB02DnI",
        "colab_type": "text"
      },
      "cell_type": "markdown",
      "source": [
        "Test-Accuracy :"
      ]
    },
    {
      "metadata": {
        "id": "6a34vRqpeK6b",
        "colab_type": "code",
        "outputId": "b6299c44-2809-41f1-bca3-6e00ee363aa5",
        "colab": {
          "base_uri": "https://localhost:8080/",
          "height": 34
        }
      },
      "cell_type": "code",
      "source": [
        "print(\"Test-Accuracy:\",\"%.2f%%\" % (np.mean(results.history[\"val_acc\"])*100))"
      ],
      "execution_count": 11,
      "outputs": [
        {
          "output_type": "stream",
          "text": [
            "Test-Accuracy: 94.81%\n"
          ],
          "name": "stdout"
        }
      ]
    },
    {
      "metadata": {
        "id": "wR_jZIj42GLU",
        "colab_type": "text"
      },
      "cell_type": "markdown",
      "source": [
        "### 2.6 Evaluate the model to see the accuracy"
      ]
    },
    {
      "metadata": {
        "id": "f99LFQg92IL9",
        "colab_type": "text"
      },
      "cell_type": "markdown",
      "source": [
        "Now we can check the accuracy of our model"
      ]
    },
    {
      "metadata": {
        "id": "nm_bt_ZFtKs-",
        "colab_type": "code",
        "outputId": "23658dc9-91ff-4d90-f4a7-b35f41bd38dd",
        "colab": {
          "base_uri": "https://localhost:8080/",
          "height": 119
        }
      },
      "cell_type": "code",
      "source": [
        "print(\"Evaluating on training set...\")\n",
        "(loss, accuracy) = model.evaluate(X_train,y_train)\n",
        "print(\"loss={:.4f}, accuracy: {:.4f}%\".format(loss,accuracy * 100))\n",
        "\n",
        "\n",
        "print(\"Evaluating on testing set...\")\n",
        "(loss, accuracy) = model.evaluate(X_test, y_test)\n",
        "print(\"loss={:.4f}, accuracy: {:.4f}%\".format(loss,accuracy * 100))"
      ],
      "execution_count": 12,
      "outputs": [
        {
          "output_type": "stream",
          "text": [
            "Evaluating on training set...\n",
            "1203/1203 [==============================] - 0s 72us/step\n",
            "loss=0.0773, accuracy: 98.1712%\n",
            "Evaluating on testing set...\n",
            "594/594 [==============================] - 0s 66us/step\n",
            "loss=0.1452, accuracy: 96.2963%\n"
          ],
          "name": "stdout"
        }
      ]
    },
    {
      "metadata": {
        "id": "IbwDPZ8D2LBF",
        "colab_type": "text"
      },
      "cell_type": "markdown",
      "source": [
        "### 2.7 Summarize history for accuracy"
      ]
    },
    {
      "metadata": {
        "id": "pvA_vEgDtNPV",
        "colab_type": "code",
        "outputId": "e34d40bd-e695-4e18-c5bb-3b93f09f2423",
        "colab": {
          "base_uri": "https://localhost:8080/",
          "height": 393
        }
      },
      "cell_type": "code",
      "source": [
        "# summarize history for accuracy\n",
        "plt.plot(results.history['acc'])\n",
        "plt.plot(results.history['val_acc'])\n",
        "plt.title('model accuracy')\n",
        "plt.ylabel('accuracy')\n",
        "plt.xlabel('epoch')\n",
        "plt.legend(['train', 'test'], loc='down right')"
      ],
      "execution_count": 13,
      "outputs": [
        {
          "output_type": "execute_result",
          "data": {
            "text/plain": [
              "<matplotlib.legend.Legend at 0x7f9ac26bef28>"
            ]
          },
          "metadata": {
            "tags": []
          },
          "execution_count": 13
        },
        {
          "output_type": "display_data",
          "data": {
            "image/png": "[encoded data removed]",
            "text/plain": [
              "<Figure size 576x396 with 1 Axes>"
            ]
          },
          "metadata": {
            "tags": []
          }
        }
      ]
    },
    {
      "metadata": {
        "id": "kWnilRgt2NKM",
        "colab_type": "text"
      },
      "cell_type": "markdown",
      "source": [
        "### 2.8 Summarize history for loss"
      ]
    },
    {
      "metadata": {
        "id": "UOQ11XFLtWbW",
        "colab_type": "code",
        "outputId": "45e7a357-1ad9-4c55-96de-b53953b69b7a",
        "colab": {
          "base_uri": "https://localhost:8080/",
          "height": 461
        }
      },
      "cell_type": "code",
      "source": [
        "# summarize history for loss\n",
        "plt.plot(results.history['loss'])\n",
        "plt.plot(results.history['val_loss'])\n",
        "plt.title('model loss')\n",
        "plt.ylabel('loss')\n",
        "plt.xlabel('epoch')\n",
        "plt.legend(['train', 'test'], loc='upper right')\n",
        "\n",
        "max_loss = np.max(results.history['loss'])\n",
        "min_loss = np.min(results.history['loss'])\n",
        "print(\"Maximum Loss : {:.4f}\".format(max_loss))\n",
        "print(\"\")\n",
        "print(\"Minimum Loss : {:.4f}\".format(min_loss))\n",
        "print(\"\")\n",
        "print(\"Loss difference : {:.4f}\".format((max_loss - min_loss)))"
      ],
      "execution_count": 14,
      "outputs": [
        {
          "output_type": "stream",
          "text": [
            "Maximum Loss : 9.1798\n",
            "\n",
            "Minimum Loss : 0.2667\n",
            "\n",
            "Loss difference : 8.9132\n"
          ],
          "name": "stdout"
        },
        {
          "output_type": "display_data",
          "data": {
            "image/png": "[encoded data removed]",
            "text/plain": [
              "<Figure size 576x396 with 1 Axes>"
            ]
          },
          "metadata": {
            "tags": []
          }
        }
      ]
    },
    {
      "metadata": {
        "id": "0MtErJ3T2PV7",
        "colab_type": "text"
      },
      "cell_type": "markdown",
      "source": [
        "# 3. Visualization"
      ]
    },
    {
      "metadata": {
        "id": "8OSGzu2C2Ska",
        "colab_type": "text"
      },
      "cell_type": "markdown",
      "source": [
        "### 3.3 Display the test set and predictions"
      ]
    },
    {
      "metadata": {
        "id": "f8lCXWeEtZOL",
        "colab_type": "code",
        "outputId": "409ce131-15f5-475c-f935-af2f294fc941",
        "colab": {
          "base_uri": "https://localhost:8080/",
          "height": 506
        }
      },
      "cell_type": "code",
      "source": [
        "# set up the figure\n",
        "fig = plt.figure(figsize=(15, 7))\n",
        "fig.subplots_adjust(left=0, right=1, bottom=0, top=1, hspace=0.05, wspace=0.05)\n",
        "\n",
        "# plot the digits: each image is 8x8 pixels\n",
        "for i in range(120):\n",
        "    ax = fig.add_subplot(6, 20, i + 1, xticks=[], yticks=[])\n",
        "    ax.imshow(X_test[i+50,:].reshape((8,8)),cmap=plt.cm.gray_r, interpolation='nearest')\n",
        "    \n",
        "    # label the image with the target value\n",
        "    ax.text(0, 7, str(prediction_values[i+50]))"
      ],
      "execution_count": 15,
      "outputs": [
        {
          "output_type": "display_data",
          "data": {
            "image/png": "[encoded data removed]",
            "text/plain": [
              "<Figure size 1080x504 with 120 Axes>"
            ]
          },
          "metadata": {
            "tags": []
          }
        }
      ]
    },
    {
      "metadata": {
        "id": "-JzwV1qQ3RNO",
        "colab_type": "text"
      },
      "cell_type": "markdown",
      "source": [
        "# 4. Test out model"
      ]
    },
    {
      "metadata": {
        "id": "dKvU0MJS3UNV",
        "colab_type": "text"
      },
      "cell_type": "markdown",
      "source": [
        "### 4.1 Import files"
      ]
    },
    {
      "metadata": {
        "id": "2J7gGXyf26Nl",
        "colab_type": "text"
      },
      "cell_type": "markdown",
      "source": [
        "In google colab we can import files through the following commands:"
      ]
    },
    {
      "metadata": {
        "id": "4BHLfEJ0tbnL",
        "colab_type": "code",
        "colab": {}
      },
      "cell_type": "code",
      "source": [
        "#from google.colab import files\n",
        "#files.upload()"
      ],
      "execution_count": 0,
      "outputs": []
    },
    {
      "metadata": {
        "id": "NL5s5dsM3Z90",
        "colab_type": "text"
      },
      "cell_type": "markdown",
      "source": [
        "### 4.2 Reshape pictures"
      ]
    },
    {
      "metadata": {
        "id": "RCKpTXed29Rg",
        "colab_type": "text"
      },
      "cell_type": "markdown",
      "source": [
        "In order to transfer the image to the grayscale, we will do the following:"
      ]
    },
    {
      "metadata": {
        "id": "DiU9HfS6uD6J",
        "colab_type": "code",
        "colab": {}
      },
      "cell_type": "code",
      "source": [
        "#import cv2\n",
        "#image = cv2.imread('broj_4_2.png') \n",
        "#grayImage = cv2.cvtColor(image, cv2.COLOR_BGR2GRAY)\n",
        "#imagem = cv2.bitwise_not(image)\n",
        "#plt.imshow(imagem[:,:,0])"
      ],
      "execution_count": 0,
      "outputs": []
    },
    {
      "metadata": {
        "id": "xtN-HY8M3hJS",
        "colab_type": "text"
      },
      "cell_type": "markdown",
      "source": [
        "### 4.3 Predict values"
      ]
    },
    {
      "metadata": {
        "id": "6Okq8-qx3LHU",
        "colab_type": "text"
      },
      "cell_type": "markdown",
      "source": [
        "Test out model on imported picture:"
      ]
    },
    {
      "metadata": {
        "id": "vdiEHuD_u4TS",
        "colab_type": "code",
        "colab": {}
      },
      "cell_type": "code",
      "source": [
        "#predict = model.predict_classes(imagem[:,:,0].reshape(1,8,8,1))\n",
        "#print(predict)"
      ],
      "execution_count": 0,
      "outputs": []
    },
    {
      "metadata": {
        "id": "Ebk1qVLR3n_J",
        "colab_type": "text"
      },
      "cell_type": "markdown",
      "source": [
        "# 5. Save a model as picture and pdf"
      ]
    },
    {
      "metadata": {
        "id": "ZM-ifmKQ3yrG",
        "colab_type": "text"
      },
      "cell_type": "markdown",
      "source": [
        "### 5.1 Import required libraries"
      ]
    },
    {
      "metadata": {
        "id": "QxOtFZPVvrw4",
        "colab_type": "code",
        "colab": {}
      },
      "cell_type": "code",
      "source": [
        "!pip install ann_visualizer\n",
        "!apt-get install xdg-utils\n",
        "from keras.utils import plot_model\n",
        "from IPython.display import clear_output\n",
        "from ann_visualizer.visualize import ann_viz;\n",
        "clear_output()"
      ],
      "execution_count": 0,
      "outputs": []
    },
    {
      "metadata": {
        "id": "dd8CFuhb31Nu",
        "colab_type": "text"
      },
      "cell_type": "markdown",
      "source": [
        "### 5.2 Save a model as png picture"
      ]
    },
    {
      "metadata": {
        "id": "F_nMYleSt6jO",
        "colab_type": "code",
        "colab": {}
      },
      "cell_type": "code",
      "source": [
        "plot_model(model,show_shapes=True,show_layer_names=False, to_file='model.png')"
      ],
      "execution_count": 0,
      "outputs": []
    },
    {
      "metadata": {
        "id": "ifeWsgF834mG",
        "colab_type": "text"
      },
      "cell_type": "markdown",
      "source": [
        "### 5.3 Same a model as pdf"
      ]
    },
    {
      "metadata": {
        "id": "1KS9D4aJt76b",
        "colab_type": "code",
        "colab": {}
      },
      "cell_type": "code",
      "source": [
        "#ann_viz(model, title=\"Solving a digits classification problem- Convolutional neural network with Keras\")"
      ],
      "execution_count": 0,
      "outputs": []
    },
    {
      "metadata": {
        "id": "eUuxZBVq2cNI",
        "colab_type": "text"
      },
      "cell_type": "markdown",
      "source": [
        "\n",
        "\n",
        "---\n",
        "\n",
        "\n",
        "\n",
        "---\n",
        "\n",
        "\n",
        "For more informations, visit http://datahacker.rs/ .\n",
        "\n",
        "For more examples, visit https://github.com/DavorJordacevic.\n",
        "\n",
        "\n",
        "---\n",
        "\n",
        "\n",
        "\n",
        "---\n"
      ]
    }
  ]
}
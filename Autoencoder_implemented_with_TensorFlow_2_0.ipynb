{
  "nbformat": 4,
  "nbformat_minor": 0,
  "metadata": {
    "colab": {
      "name": "Autoencoder implemented with TensorFlow 2.0.ipynb",
      "provenance": [],
      "collapsed_sections": [],
      "include_colab_link": true
    },
    "kernelspec": {
      "name": "python3",
      "display_name": "Python 3"
    },
    "accelerator": "GPU"
  },
  "cells": [
    {
      "cell_type": "markdown",
      "metadata": {
        "id": "view-in-github",
        "colab_type": "text"
      },
      "source": [
        "<a href=\"https://colab.research.google.com/github/DavorJordacevic/TensorFlow-Keras-Neural-Networks/blob/master/Autoencoder_implemented_with_TensorFlow_2_0.ipynb\" target=\"_parent\"><img src=\"https://colab.research.google.com/assets/colab-badge.svg\" alt=\"Open In Colab\"/></a>"
      ]
    },
    {
      "cell_type": "code",
      "metadata": {
        "id": "ax9PxMRAX_Kr",
        "colab_type": "code",
        "outputId": "08dbe974-68f5-4819-82da-6081b897414d",
        "colab": {
          "base_uri": "https://localhost:8080/",
          "height": 34
        }
      },
      "source": [
        "%tensorflow_version 2.x"
      ],
      "execution_count": 0,
      "outputs": [
        {
          "output_type": "stream",
          "text": [
            "TensorFlow 2.x selected.\n"
          ],
          "name": "stdout"
        }
      ]
    },
    {
      "cell_type": "code",
      "metadata": {
        "id": "uRWh-UDbYC_4",
        "colab_type": "code",
        "colab": {}
      },
      "source": [
        "import numpy as np\n",
        "import tensorflow as tf\n",
        "import matplotlib.pyplot as plt\n",
        "\n",
        "from tensorflow.keras import datasets\n",
        "from tensorflow.keras.optimizers import SGD \n",
        "from tensorflow.keras.models import Sequential\n",
        "from tensorflow.keras.layers import Dense, Flatten, Reshape"
      ],
      "execution_count": 0,
      "outputs": []
    },
    {
      "cell_type": "code",
      "metadata": {
        "id": "hRdAQm4HYKjz",
        "colab_type": "code",
        "colab": {}
      },
      "source": [
        "%matplotlib inline"
      ],
      "execution_count": 0,
      "outputs": []
    },
    {
      "cell_type": "code",
      "metadata": {
        "id": "wnyBw71oYLJx",
        "colab_type": "code",
        "outputId": "4ca9efbb-c9c0-469b-a639-d1d22255f868",
        "colab": {
          "base_uri": "https://localhost:8080/",
          "height": 50
        }
      },
      "source": [
        "(X_train, y_train), (X_test, y_test) = datasets.mnist.load_data()\n",
        "\n",
        "X_train, X_test = X_train / 255.0, X_test / 255.0"
      ],
      "execution_count": 0,
      "outputs": [
        {
          "output_type": "stream",
          "text": [
            "Downloading data from https://storage.googleapis.com/tensorflow/tf-keras-datasets/mnist.npz\n",
            "11493376/11490434 [==============================] - 0s 0us/step\n"
          ],
          "name": "stdout"
        }
      ]
    },
    {
      "cell_type": "code",
      "metadata": {
        "id": "VjsM1sird0Ck",
        "colab_type": "code",
        "colab": {}
      },
      "source": [
        "size_hidden_layer = 20"
      ],
      "execution_count": 0,
      "outputs": []
    },
    {
      "cell_type": "code",
      "metadata": {
        "id": "JEzieX6Dallx",
        "colab_type": "code",
        "colab": {}
      },
      "source": [
        "class Encoder(Sequential):\n",
        "  def __init__(self):\n",
        "    super().__init__()\n",
        "\n",
        "    self.add(Flatten(input_shape=(28, 28)))\n",
        "    self.add(Dense(size_hidden_layer, activation='relu'))"
      ],
      "execution_count": 0,
      "outputs": []
    },
    {
      "cell_type": "code",
      "metadata": {
        "id": "4MhhqVlIaqnX",
        "colab_type": "code",
        "colab": {}
      },
      "source": [
        "class Decoder(Sequential):\n",
        "  def __init__(self):\n",
        "    super().__init__()\n",
        "\n",
        "    self.add(Dense(784,   activation='sigmoid', input_shape=[size_hidden_layer]))\n",
        "    self.add(Reshape([28, 28]))"
      ],
      "execution_count": 0,
      "outputs": []
    },
    {
      "cell_type": "code",
      "metadata": {
        "id": "VLCsiOexax96",
        "colab_type": "code",
        "colab": {}
      },
      "source": [
        "encoder = Encoder()\n",
        "decoder = Decoder()"
      ],
      "execution_count": 0,
      "outputs": []
    },
    {
      "cell_type": "code",
      "metadata": {
        "id": "oMwV3qIZazPu",
        "colab_type": "code",
        "colab": {}
      },
      "source": [
        "autoencoder = Sequential([encoder, decoder])\n",
        "\n",
        "autoencoder.compile(loss= 'binary_crossentropy',\n",
        "                    optimizer= SGD(1.5),\n",
        "                    metrics=['accuracy'])"
      ],
      "execution_count": 0,
      "outputs": []
    },
    {
      "cell_type": "code",
      "metadata": {
        "id": "6ft_HjcGa0uA",
        "colab_type": "code",
        "outputId": "4dcdc1cd-0a20-4a2a-f26d-d4120af0e81a",
        "colab": {
          "base_uri": "https://localhost:8080/",
          "height": 218
        }
      },
      "source": [
        "autoencoder.fit(X_train, X_train,\n",
        "                epochs= 5,\n",
        "                validation_data=[X_test, X_test])"
      ],
      "execution_count": 0,
      "outputs": [
        {
          "output_type": "stream",
          "text": [
            "Train on 60000 samples, validate on 10000 samples\n",
            "Epoch 1/5\n",
            "60000/60000 [==============================] - 8s 141us/sample - loss: 0.2227 - accuracy: 0.7935 - val_loss: 0.1685 - val_accuracy: 0.8015\n",
            "Epoch 2/5\n",
            "60000/60000 [==============================] - 6s 105us/sample - loss: 0.1532 - accuracy: 0.8063 - val_loss: 0.1389 - val_accuracy: 0.8077\n",
            "Epoch 3/5\n",
            "60000/60000 [==============================] - 6s 106us/sample - loss: 0.1326 - accuracy: 0.8098 - val_loss: 0.1248 - val_accuracy: 0.8099\n",
            "Epoch 4/5\n",
            "60000/60000 [==============================] - 7s 110us/sample - loss: 0.1239 - accuracy: 0.8110 - val_loss: 0.1202 - val_accuracy: 0.8104\n",
            "Epoch 5/5\n",
            "60000/60000 [==============================] - 6s 104us/sample - loss: 0.1212 - accuracy: 0.8113 - val_loss: 0.1186 - val_accuracy: 0.8108\n"
          ],
          "name": "stdout"
        },
        {
          "output_type": "execute_result",
          "data": {
            "text/plain": [
              "<tensorflow.python.keras.callbacks.History at 0x7f4580048898>"
            ]
          },
          "metadata": {
            "tags": []
          },
          "execution_count": 10
        }
      ]
    },
    {
      "cell_type": "code",
      "metadata": {
        "id": "A98dRUata19c",
        "colab_type": "code",
        "outputId": "89c43e11-1706-4668-afc1-bf0e23e7eb3f",
        "colab": {
          "base_uri": "https://localhost:8080/",
          "height": 217
        }
      },
      "source": [
        "image_batch = autoencoder.predict(X_test[:10])\n",
        "\n",
        "# set up the figure\n",
        "fig = plt.figure(figsize=(12, 6))\n",
        "fig.subplots_adjust(left=0, right=1, bottom=0, top=1, hspace=0.05, wspace=0.05)\n",
        "\n",
        "# plot the digits: each image is 28x28 pixels\n",
        "for i in range(10):\n",
        "  ax = fig.add_subplot(1, 10, i + 1, xticks=[], yticks=[])\n",
        "  ax.imshow(X_test[i], \n",
        "            cmap=plt.cm.binary, interpolation='nearest')\n",
        "\n",
        "fig = plt.figure(figsize=(12, 6))\n",
        "fig.subplots_adjust(left=0, right=1, bottom=0, top=1, hspace=0.05, wspace=0.05)\n",
        "for i in range(10):\n",
        "  ax = fig.add_subplot(1, 10, i + 1, xticks=[], yticks=[])\n",
        "  ax.imshow(image_batch[i],\n",
        "            cmap=plt.cm.binary, interpolation='nearest')"
      ],
      "execution_count": 0,
      "outputs": [
        {
          "output_type": "display_data",
          "data": {
            "image/png": "[encoded data removed]",
            "text/plain": [
              "<Figure size 864x432 with 10 Axes>"
            ]
          },
          "metadata": {
            "tags": []
          }
        },
        {
          "output_type": "display_data",
          "data": {
            "image/png": "[encoded data removed]",
            "text/plain": [
              "<Figure size 864x432 with 10 Axes>"
            ]
          },
          "metadata": {
            "tags": []
          }
        }
      ]
    },
    {
      "cell_type": "markdown",
      "metadata": {
        "id": "cgQoWeZQbEcw",
        "colab_type": "text"
      },
      "source": [
        "\n",
        "\n",
        "---\n",
        "\n"
      ]
    },
    {
      "cell_type": "code",
      "metadata": {
        "id": "7KbH5rjGbYji",
        "colab_type": "code",
        "colab": {}
      },
      "source": [
        "from sklearn.decomposition import PCA\n",
        "from sklearn.preprocessing import StandardScaler"
      ],
      "execution_count": 0,
      "outputs": []
    },
    {
      "cell_type": "code",
      "metadata": {
        "id": "i5K6GgxabKZY",
        "colab_type": "code",
        "colab": {}
      },
      "source": [
        "X_train = X_train.reshape([X_train.shape[0], X_train.shape[1] * X_train.shape[2]])\n",
        "X_test = X_test.reshape([X_test.shape[0], X_test.shape[1] * X_test.shape[2]])"
      ],
      "execution_count": 0,
      "outputs": []
    },
    {
      "cell_type": "code",
      "metadata": {
        "id": "eurgqGIobD5Y",
        "colab_type": "code",
        "colab": {}
      },
      "source": [
        "n_samples, n_features = X_train.shape\n",
        "n_components = 20\n",
        "\n",
        "pca = PCA(n_components=n_components)\n",
        "pca.fit(X_train)\n",
        "\n",
        "num_elements = X_test.shape[0]\n",
        "X_test_PCA = pca.fit_transform(X_test)\n",
        "\n",
        "X_reconstructed = pca.inverse_transform(X_test_PCA)"
      ],
      "execution_count": 0,
      "outputs": []
    },
    {
      "cell_type": "code",
      "metadata": {
        "id": "rxS_TmQHbcoJ",
        "colab_type": "code",
        "outputId": "5e207ac6-2193-4f12-f6b9-8b114b9973ae",
        "colab": {
          "base_uri": "https://localhost:8080/",
          "height": 217
        }
      },
      "source": [
        "# set up the figure\n",
        "fig = plt.figure(figsize=(12, 6))\n",
        "fig.subplots_adjust(left=0, right=1, bottom=0, top=1, hspace=0.05, wspace=0.05)\n",
        "\n",
        "# plot the digits: each image is 28x28 pixels\n",
        "for i in range(10):\n",
        "    ax = fig.add_subplot(1, 10, i + 1, xticks=[], yticks=[])\n",
        "    ax.imshow(np.reshape(X_test[i,:], (28,28)),\n",
        "              cmap=plt.cm.binary, interpolation='nearest')\n",
        "\n",
        "# set up the figure\n",
        "fig = plt.figure(figsize=(12, 6))\n",
        "fig.subplots_adjust(left=0, right=1, bottom=0, top=1, hspace=0.05, wspace=0.05)\n",
        "\n",
        "# plot the digits: each image is 28x28 pixels\n",
        "for i in range(10):\n",
        "    ax = fig.add_subplot(1, 10, i + 1, xticks=[], yticks=[])\n",
        "    ax.imshow(np.reshape(X_reconstructed[i,:], (28,28)),\n",
        "              cmap=plt.cm.binary, interpolation='nearest')"
      ],
      "execution_count": 0,
      "outputs": [
        {
          "output_type": "display_data",
          "data": {
            "image/png": "[encoded data removed]",
            "text/plain": [
              "<Figure size 864x432 with 10 Axes>"
            ]
          },
          "metadata": {
            "tags": []
          }
        },
        {
          "output_type": "display_data",
          "data": {
            "image/png": "[encoded data removed]",
            "text/plain": [
              "<Figure size 864x432 with 10 Axes>"
            ]
          },
          "metadata": {
            "tags": []
          }
        }
      ]
    },
    {
      "cell_type": "code",
      "metadata": {
        "id": "cd_GyzDuv0CH",
        "colab_type": "code",
        "outputId": "ee989703-e0dc-421b-c46c-3025443ac3d1",
        "colab": {
          "base_uri": "https://localhost:8080/",
          "height": 334
        }
      },
      "source": [
        "#Let's compare results from autoencoders, PCA and original images\n",
        "\n",
        "# set up the figure\n",
        "fig = plt.figure(figsize=(12, 6))\n",
        "fig.subplots_adjust(left=0, right=1, bottom=0, top=1, hspace=0.05, wspace=0.05)\n",
        "\n",
        "# plot the digits: each image is 28x28 pixels\n",
        "for i in range(10):\n",
        "    ax = fig.add_subplot(1, 10, i + 1, xticks=[], yticks=[])\n",
        "    ax.imshow(np.reshape(X_test[i,:], (28,28)),\n",
        "              cmap=plt.cm.binary, interpolation='nearest')\n",
        "\n",
        "ax.yaxis.set_label_position(\"right\")\n",
        "ax.set_ylabel('X_test', fontsize='medium',)\n",
        "\n",
        "fig = plt.figure(figsize=(12, 6))\n",
        "fig.subplots_adjust(left=0, right=1, bottom=0, top=1, hspace=0.05, wspace=0.05)\n",
        "for i in range(10):\n",
        "    ax = fig.add_subplot(1, 10, i + 1, xticks=[], yticks=[])\n",
        "    ax.imshow(np.reshape(X_reconstructed[i,:], (28,28)),\n",
        "              cmap=plt.cm.binary, interpolation='nearest')\n",
        "\n",
        "ax.yaxis.set_label_position(\"right\")\n",
        "ax.set_ylabel('PCA', fontsize='medium',)\n",
        "\n",
        "fig = plt.figure(figsize=(12, 6))\n",
        "fig.subplots_adjust(left=0, right=1, bottom=0, top=1, hspace=0.05, wspace=0.05)\n",
        "for i in range(10):\n",
        "  ax = fig.add_subplot(1, 10, i + 1, xticks=[], yticks=[])\n",
        "  ax.imshow(image_batch[i],\n",
        "            cmap=plt.cm.binary, interpolation='nearest')\n",
        "\n",
        "ax.yaxis.set_label_position(\"right\")\n",
        "ax.set_ylabel('Autoencoder', fontsize='medium',)"
      ],
      "execution_count": 0,
      "outputs": [
        {
          "output_type": "execute_result",
          "data": {
            "text/plain": [
              "Text(0, 0.5, 'Autoencoder')"
            ]
          },
          "metadata": {
            "tags": []
          },
          "execution_count": 16
        },
        {
          "output_type": "display_data",
          "data": {
            "image/png": "[encoded data removed]",
            "text/plain": [
              "<Figure size 864x432 with 10 Axes>"
            ]
          },
          "metadata": {
            "tags": []
          }
        },
        {
          "output_type": "display_data",
          "data": {
            "image/png": "[encoded data removed]",
            "text/plain": [
              "<Figure size 864x432 with 10 Axes>"
            ]
          },
          "metadata": {
            "tags": []
          }
        },
        {
          "output_type": "display_data",
          "data": {
            "image/png": "[encoded data removed]",
            "text/plain": [
              "<Figure size 864x432 with 10 Axes>"
            ]
          },
          "metadata": {
            "tags": []
          }
        }
      ]
    },
    {
      "cell_type": "markdown",
      "metadata": {
        "id": "6IpR7n-52Rmd",
        "colab_type": "text"
      },
      "source": [
        "\n",
        "\n",
        "---\n",
        "\n",
        "\n",
        "\n",
        "---\n",
        "\n"
      ]
    },
    {
      "cell_type": "code",
      "metadata": {
        "id": "1amdbek61h35",
        "colab_type": "code",
        "colab": {}
      },
      "source": [
        "# This figure shows that even the simple autoencoder with only a single hidden\n",
        "# layer unit outperforms standard PCA algorithm.\n",
        "\n",
        "# Let's build a more complex model"
      ],
      "execution_count": 0,
      "outputs": []
    },
    {
      "cell_type": "code",
      "metadata": {
        "id": "40Q5H2KZ11u1",
        "colab_type": "code",
        "outputId": "eece5c62-4a78-45f5-e5c6-6261881a0a79",
        "colab": {
          "base_uri": "https://localhost:8080/",
          "height": 151
        }
      },
      "source": [
        "(X_train, y_train), (X_test, y_test) = datasets.fashion_mnist.load_data()\n",
        "X_train, X_test = X_train / 255.0, X_test / 255.0"
      ],
      "execution_count": 0,
      "outputs": [
        {
          "output_type": "stream",
          "text": [
            "Downloading data from https://storage.googleapis.com/tensorflow/tf-keras-datasets/train-labels-idx1-ubyte.gz\n",
            "32768/29515 [=================================] - 0s 0us/step\n",
            "Downloading data from https://storage.googleapis.com/tensorflow/tf-keras-datasets/train-images-idx3-ubyte.gz\n",
            "26427392/26421880 [==============================] - 0s 0us/step\n",
            "Downloading data from https://storage.googleapis.com/tensorflow/tf-keras-datasets/t10k-labels-idx1-ubyte.gz\n",
            "8192/5148 [===============================================] - 0s 0us/step\n",
            "Downloading data from https://storage.googleapis.com/tensorflow/tf-keras-datasets/t10k-images-idx3-ubyte.gz\n",
            "4423680/4422102 [==============================] - 0s 0us/step\n"
          ],
          "name": "stdout"
        }
      ]
    },
    {
      "cell_type": "code",
      "metadata": {
        "id": "D_RBZAsf2FBA",
        "colab_type": "code",
        "colab": {}
      },
      "source": [
        "class Encoder(Sequential):\n",
        "  def __init__(self):\n",
        "    super().__init__()\n",
        "\n",
        "    self.add(Flatten(input_shape=(28, 28)))\n",
        "    self.add(Dense(400, activation='relu'))\n",
        "    self.add(Dense(200, activation='relu'))\n",
        "    self.add(Dense(100, activation='relu'))\n",
        "    self.add(Dense(50,  activation='relu'))\n",
        "    self.add(Dense(25,  activation='relu'))"
      ],
      "execution_count": 0,
      "outputs": []
    },
    {
      "cell_type": "code",
      "metadata": {
        "id": "BZXM4Kz62Gg7",
        "colab_type": "code",
        "colab": {}
      },
      "source": [
        "class Decoder(Sequential):\n",
        "  def __init__(self):\n",
        "    super().__init__()\n",
        "\n",
        "    self.add(Dense(50,   activation='relu', input_shape=[25]))\n",
        "    self.add(Dense(100,  activation='relu'))\n",
        "    self.add(Dense(200,  activation='relu'))\n",
        "    self.add(Dense(400,  activation='relu'))\n",
        "    self.add(Dense(784,  activation='sigmoid'))\n",
        "    self.add(Reshape([28, 28]))"
      ],
      "execution_count": 0,
      "outputs": []
    },
    {
      "cell_type": "code",
      "metadata": {
        "id": "Ivgdya1g2Ht3",
        "colab_type": "code",
        "colab": {}
      },
      "source": [
        "encoder = Encoder()\n",
        "decoder = Decoder()"
      ],
      "execution_count": 0,
      "outputs": []
    },
    {
      "cell_type": "code",
      "metadata": {
        "id": "dxPsv1h92JoH",
        "colab_type": "code",
        "colab": {}
      },
      "source": [
        "autoencoder = Sequential([encoder, decoder])\n",
        "\n",
        "autoencoder.compile(loss= 'mean_squared_error',\n",
        "                    optimizer= SGD(1.5),\n",
        "                    metrics=['accuracy'])"
      ],
      "execution_count": 0,
      "outputs": []
    },
    {
      "cell_type": "code",
      "metadata": {
        "id": "jAt0gSn-2Kh0",
        "colab_type": "code",
        "outputId": "c390718d-9243-4717-87dd-4b350ba9db00",
        "colab": {
          "base_uri": "https://localhost:8080/",
          "height": 218
        }
      },
      "source": [
        "autoencoder.fit(X_train, X_train,\n",
        "                epochs= 5,\n",
        "                validation_data=[X_test, X_test])"
      ],
      "execution_count": 0,
      "outputs": [
        {
          "output_type": "stream",
          "text": [
            "Train on 60000 samples, validate on 10000 samples\n",
            "Epoch 1/5\n",
            "60000/60000 [==============================] - 8s 133us/sample - loss: 0.0578 - accuracy: 0.0558 - val_loss: 0.0383 - val_accuracy: 0.0640\n",
            "Epoch 2/5\n",
            "60000/60000 [==============================] - 7s 124us/sample - loss: 0.0326 - accuracy: 0.0803 - val_loss: 0.0282 - val_accuracy: 0.0825\n",
            "Epoch 3/5\n",
            "60000/60000 [==============================] - 7s 122us/sample - loss: 0.0265 - accuracy: 0.0915 - val_loss: 0.0249 - val_accuracy: 0.0876\n",
            "Epoch 4/5\n",
            "60000/60000 [==============================] - 7s 124us/sample - loss: 0.0247 - accuracy: 0.0961 - val_loss: 0.0236 - val_accuracy: 0.0969\n",
            "Epoch 5/5\n",
            "60000/60000 [==============================] - 7s 125us/sample - loss: 0.0235 - accuracy: 0.0997 - val_loss: 0.0252 - val_accuracy: 0.1003\n"
          ],
          "name": "stdout"
        },
        {
          "output_type": "execute_result",
          "data": {
            "text/plain": [
              "<tensorflow.python.keras.callbacks.History at 0x7f45474327b8>"
            ]
          },
          "metadata": {
            "tags": []
          },
          "execution_count": 23
        }
      ]
    },
    {
      "cell_type": "code",
      "metadata": {
        "id": "9gXXQtsj2ME1",
        "colab_type": "code",
        "outputId": "f6f4b789-9359-4d15-f34a-0570a29a16b8",
        "colab": {
          "base_uri": "https://localhost:8080/",
          "height": 217
        }
      },
      "source": [
        "image_batch = autoencoder.predict(X_test[:10])\n",
        "\n",
        "fig = plt.figure(figsize=(12, 6))\n",
        "fig.subplots_adjust(left=0, right=1, bottom=0, top=1, hspace=0.05, wspace=0.05)\n",
        "for i in range(10):\n",
        "  ax = fig.add_subplot(1, 10, i + 1, xticks=[], yticks=[])\n",
        "  ax.imshow(X_test[i], \n",
        "            cmap=plt.cm.binary, interpolation='nearest')\n",
        "\n",
        "fig = plt.figure(figsize=(12, 6))\n",
        "fig.subplots_adjust(left=0, right=1, bottom=0, top=1, hspace=0.05, wspace=0.05)\n",
        "for i in range(10):\n",
        "  ax = fig.add_subplot(1, 10, i + 1, xticks=[], yticks=[])\n",
        "  ax.imshow(image_batch[i],\n",
        "            cmap=plt.cm.binary, interpolation='nearest')"
      ],
      "execution_count": 0,
      "outputs": [
        {
          "output_type": "display_data",
          "data": {
            "image/png": "[encoded data removed]",
            "text/plain": [
              "<Figure size 864x432 with 10 Axes>"
            ]
          },
          "metadata": {
            "tags": []
          }
        },
        {
          "output_type": "display_data",
          "data": {
            "image/png": "[encoded data removed]",
            "text/plain": [
              "<Figure size 864x432 with 10 Axes>"
            ]
          },
          "metadata": {
            "tags": []
          }
        }
      ]
    },
    {
      "cell_type": "code",
      "metadata": {
        "id": "JpGF5vsk3UZC",
        "colab_type": "code",
        "outputId": "1ee93571-b034-4c2e-9754-856711426a6b",
        "colab": {
          "base_uri": "https://localhost:8080/",
          "height": 117
        }
      },
      "source": [
        "diff = image_batch - X_test[:10]\n",
        "\n",
        "fig = plt.figure(figsize=(12, 6))\n",
        "fig.subplots_adjust(left=0, right=1, bottom=0, top=1, hspace=0.05, wspace=0.05)\n",
        "for i in range(10):\n",
        "  ax = fig.add_subplot(1, 10, i + 1, xticks=[], yticks=[])\n",
        "  ax.imshow(diff[i],\n",
        "            cmap=plt.cm.binary, interpolation='nearest')"
      ],
      "execution_count": 0,
      "outputs": [
        {
          "output_type": "display_data",
          "data": {
            "image/png": "[encoded data removed]",
            "text/plain": [
              "<Figure size 864x432 with 10 Axes>"
            ]
          },
          "metadata": {
            "tags": []
          }
        }
      ]
    },
    {
      "cell_type": "markdown",
      "metadata": {
        "id": "UTXT7TVV33cN",
        "colab_type": "text"
      },
      "source": [
        "\n",
        "\n",
        "---\n",
        "\n"
      ]
    },
    {
      "cell_type": "code",
      "metadata": {
        "id": "4iNcEeyZ34lS",
        "colab_type": "code",
        "colab": {}
      },
      "source": [
        "# So, this was the first way to do this, also the easiest one.\n",
        "# The other way to build a model is to use model subclassing with Keras."
      ],
      "execution_count": 0,
      "outputs": []
    },
    {
      "cell_type": "code",
      "metadata": {
        "id": "vbF0sfyH9y7S",
        "colab_type": "code",
        "colab": {}
      },
      "source": [
        "from tensorflow.keras import Model"
      ],
      "execution_count": 0,
      "outputs": []
    },
    {
      "cell_type": "code",
      "metadata": {
        "id": "hZdZvlT59zhp",
        "colab_type": "code",
        "colab": {}
      },
      "source": [
        "# Creating a model\n",
        "class Encoder(Model):\n",
        "  def __init__(self):\n",
        "    super(Encoder, self).__init__()\n",
        "    self.flatten = Flatten(input_shape=(28, 28))\n",
        "    self.dense_1 = Dense(400, activation='relu')\n",
        "    self.dense_2 = Dense(200, activation='relu')\n",
        "    self.dense_3 = Dense(100, activation='relu')\n",
        "    self.dense_4 = Dense(50,  activation='relu')\n",
        "    self.dense_5 = Dense(25,  activation='relu')\n",
        "\n",
        "  def call(self, x):\n",
        "    x = self.flatten(x)\n",
        "    x = self.dense_1(x)\n",
        "    x = self.dense_2(x)\n",
        "    x = self.dense_3(x)\n",
        "    x = self.dense_4(x)\n",
        "  \n",
        "    return self.dense_5(x)"
      ],
      "execution_count": 0,
      "outputs": []
    },
    {
      "cell_type": "code",
      "metadata": {
        "id": "vJwC1FJ49A6Q",
        "colab_type": "code",
        "colab": {}
      },
      "source": [
        "# Creating a model\n",
        "class Decoder(Model):\n",
        "  def __init__(self):\n",
        "    super(Decoder, self).__init__()\n",
        "    self.dense_1 = Dense(50,   activation='relu', input_shape=[25])\n",
        "    self.dense_2 = Dense(100,  activation='relu')\n",
        "    self.dense_3 = Dense(200,  activation='relu')\n",
        "    self.dense_4 = Dense(400,  activation='relu')\n",
        "    self.dense_5 = Dense(784,  activation='sigmoid')\n",
        "    self.reshape = Reshape([28, 28])\n",
        "\n",
        "  def call(self, x):\n",
        "    x = self.dense_1(x)\n",
        "    x = self.dense_2(x)\n",
        "    x = self.dense_3(x)\n",
        "    x = self.dense_4(x)\n",
        "    x = self.dense_5(x)\n",
        "\n",
        "    return self.reshape(x)"
      ],
      "execution_count": 0,
      "outputs": []
    },
    {
      "cell_type": "code",
      "metadata": {
        "id": "DczSSXwR-kfr",
        "colab_type": "code",
        "colab": {}
      },
      "source": [
        "class Autoencoder(Model):\n",
        "  def __init__(self):\n",
        "    super(Autoencoder, self).__init__()\n",
        "    self.encoder = Encoder()\n",
        "    self.decoder = Decoder()\n",
        "  \n",
        "  def call(self, input_features):\n",
        "    code = self.encoder(input_features)\n",
        "    reconstructed = self.decoder(code)\n",
        "    return reconstructed"
      ],
      "execution_count": 0,
      "outputs": []
    },
    {
      "cell_type": "code",
      "metadata": {
        "id": "OMF-Ko-F_eWp",
        "colab_type": "code",
        "colab": {}
      },
      "source": [
        "# Create an instance of the model\n",
        "autoencoder = Autoencoder()"
      ],
      "execution_count": 0,
      "outputs": []
    },
    {
      "cell_type": "code",
      "metadata": {
        "id": "e6LUjGJj_t2P",
        "colab_type": "code",
        "colab": {}
      },
      "source": [
        "autoencoder.compile(loss= 'binary_crossentropy',\n",
        "                    optimizer= SGD(1.5),\n",
        "                    metrics=['accuracy'])"
      ],
      "execution_count": 0,
      "outputs": []
    },
    {
      "cell_type": "code",
      "metadata": {
        "id": "jw6By44Z_0K-",
        "colab_type": "code",
        "outputId": "e40f8263-394c-492c-9479-647167e8294d",
        "colab": {
          "base_uri": "https://localhost:8080/",
          "height": 221
        }
      },
      "source": [
        "autoencoder.fit(X_train, X_train,\n",
        "                epochs= 5,\n",
        "                validation_data=[X_test, X_test])"
      ],
      "execution_count": 35,
      "outputs": [
        {
          "output_type": "stream",
          "text": [
            "Train on 60000 samples, validate on 10000 samples\n",
            "Epoch 1/5\n",
            "60000/60000 [==============================] - 7s 119us/sample - loss: 0.2992 - accuracy: 0.5055 - val_loss: 0.2975 - val_accuracy: 0.5040\n",
            "Epoch 2/5\n",
            "60000/60000 [==============================] - 7s 111us/sample - loss: 0.2967 - accuracy: 0.5059 - val_loss: 0.2992 - val_accuracy: 0.5026\n",
            "Epoch 3/5\n",
            "60000/60000 [==============================] - 6s 107us/sample - loss: 0.2946 - accuracy: 0.5062 - val_loss: 0.2958 - val_accuracy: 0.5048\n",
            "Epoch 4/5\n",
            "60000/60000 [==============================] - 7s 112us/sample - loss: 0.2930 - accuracy: 0.5064 - val_loss: 0.2930 - val_accuracy: 0.5048\n",
            "Epoch 5/5\n",
            "60000/60000 [==============================] - 7s 112us/sample - loss: 0.2916 - accuracy: 0.5065 - val_loss: 0.2975 - val_accuracy: 0.5030\n"
          ],
          "name": "stdout"
        },
        {
          "output_type": "execute_result",
          "data": {
            "text/plain": [
              "<tensorflow.python.keras.callbacks.History at 0x7fea6f1b71d0>"
            ]
          },
          "metadata": {
            "tags": []
          },
          "execution_count": 35
        }
      ]
    }
  ]
}